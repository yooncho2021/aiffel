{
 "cells": [
  {
   "cell_type": "markdown",
   "id": "amateur-moment",
   "metadata": {},
   "source": [
    "MNIST 데이터셋을 활용하여 영화 추천 시스템 만들기\n",
    "- 별점: 시청횟수\n",
    "- 3점 미만의 데이터는 선호하지 않음으로 가정"
   ]
  },
  {
   "cell_type": "markdown",
   "id": "dying-central",
   "metadata": {},
   "source": [
    "### 1. 데이터 준비와 전처리"
   ]
  },
  {
   "cell_type": "code",
   "execution_count": 1,
   "id": "valid-durham",
   "metadata": {
    "scrolled": true
   },
   "outputs": [
    {
     "data": {
      "text/html": [
       "<div>\n",
       "<style scoped>\n",
       "    .dataframe tbody tr th:only-of-type {\n",
       "        vertical-align: middle;\n",
       "    }\n",
       "\n",
       "    .dataframe tbody tr th {\n",
       "        vertical-align: top;\n",
       "    }\n",
       "\n",
       "    .dataframe thead th {\n",
       "        text-align: right;\n",
       "    }\n",
       "</style>\n",
       "<table border=\"1\" class=\"dataframe\">\n",
       "  <thead>\n",
       "    <tr style=\"text-align: right;\">\n",
       "      <th></th>\n",
       "      <th>user_id</th>\n",
       "      <th>movie_id</th>\n",
       "      <th>rating</th>\n",
       "      <th>timestamp</th>\n",
       "    </tr>\n",
       "  </thead>\n",
       "  <tbody>\n",
       "    <tr>\n",
       "      <th>0</th>\n",
       "      <td>1</td>\n",
       "      <td>1193</td>\n",
       "      <td>5</td>\n",
       "      <td>978300760</td>\n",
       "    </tr>\n",
       "    <tr>\n",
       "      <th>1</th>\n",
       "      <td>1</td>\n",
       "      <td>661</td>\n",
       "      <td>3</td>\n",
       "      <td>978302109</td>\n",
       "    </tr>\n",
       "    <tr>\n",
       "      <th>2</th>\n",
       "      <td>1</td>\n",
       "      <td>914</td>\n",
       "      <td>3</td>\n",
       "      <td>978301968</td>\n",
       "    </tr>\n",
       "    <tr>\n",
       "      <th>3</th>\n",
       "      <td>1</td>\n",
       "      <td>3408</td>\n",
       "      <td>4</td>\n",
       "      <td>978300275</td>\n",
       "    </tr>\n",
       "    <tr>\n",
       "      <th>4</th>\n",
       "      <td>1</td>\n",
       "      <td>2355</td>\n",
       "      <td>5</td>\n",
       "      <td>978824291</td>\n",
       "    </tr>\n",
       "  </tbody>\n",
       "</table>\n",
       "</div>"
      ],
      "text/plain": [
       "   user_id  movie_id  rating  timestamp\n",
       "0        1      1193       5  978300760\n",
       "1        1       661       3  978302109\n",
       "2        1       914       3  978301968\n",
       "3        1      3408       4  978300275\n",
       "4        1      2355       5  978824291"
      ]
     },
     "execution_count": 1,
     "metadata": {},
     "output_type": "execute_result"
    }
   ],
   "source": [
    "# 파일을 불러와서 앞의 5개의 데이터만 뽑아보기\n",
    "import os\n",
    "import pandas as pd\n",
    "\n",
    "rating_file_path=os.getenv('HOME') + '/aiffel/recommendata_iu/data/ml-1m/ratings.dat'\n",
    "ratings_cols = ['user_id', 'movie_id', 'rating', 'timestamp']\n",
    "ratings = pd.read_csv(rating_file_path, sep='::', names=ratings_cols, engine='python', encoding = \"ISO-8859-1\")\n",
    "orginal_data_size = len(ratings)\n",
    "ratings.head() "
   ]
  },
  {
   "cell_type": "code",
   "execution_count": 2,
   "id": "contrary-fiber",
   "metadata": {
    "scrolled": false
   },
   "outputs": [
    {
     "name": "stdout",
     "output_type": "stream",
     "text": [
      "orginal_data_size: 1000209, filtered_data_size: 836478\n",
      "Ratio of Remaining Data is 83.63%\n"
     ]
    }
   ],
   "source": [
    "# 3점 이상만 남기고, 필터를 거친 데이터의 갯수와 비율 파악하기\n",
    "ratings = ratings[ratings['rating']>=3]\n",
    "filtered_data_size = len(ratings)\n",
    "\n",
    "print(f'orginal_data_size: {orginal_data_size}, filtered_data_size: {filtered_data_size}')\n",
    "print(f'Ratio of Remaining Data is {filtered_data_size / orginal_data_size:.2%}')"
   ]
  },
  {
   "cell_type": "code",
   "execution_count": 3,
   "id": "generous-bruce",
   "metadata": {},
   "outputs": [
    {
     "data": {
      "text/plain": [
       "0          5\n",
       "1          3\n",
       "2          3\n",
       "3          4\n",
       "4          5\n",
       "          ..\n",
       "1000203    3\n",
       "1000205    5\n",
       "1000206    5\n",
       "1000207    4\n",
       "1000208    4\n",
       "Name: count, Length: 836478, dtype: int64"
      ]
     },
     "execution_count": 3,
     "metadata": {},
     "output_type": "execute_result"
    }
   ],
   "source": [
    "# rating 컬럼의 이름을 count로 바꾸기\n",
    "ratings.rename(columns={'rating':'count'}, inplace=True)\n",
    "ratings['count']"
   ]
  },
  {
   "cell_type": "code",
   "execution_count": 4,
   "id": "controversial-growth",
   "metadata": {
    "scrolled": true
   },
   "outputs": [
    {
     "data": {
      "text/html": [
       "<div>\n",
       "<style scoped>\n",
       "    .dataframe tbody tr th:only-of-type {\n",
       "        vertical-align: middle;\n",
       "    }\n",
       "\n",
       "    .dataframe tbody tr th {\n",
       "        vertical-align: top;\n",
       "    }\n",
       "\n",
       "    .dataframe thead th {\n",
       "        text-align: right;\n",
       "    }\n",
       "</style>\n",
       "<table border=\"1\" class=\"dataframe\">\n",
       "  <thead>\n",
       "    <tr style=\"text-align: right;\">\n",
       "      <th></th>\n",
       "      <th>movie_id</th>\n",
       "      <th>title</th>\n",
       "      <th>genre</th>\n",
       "    </tr>\n",
       "  </thead>\n",
       "  <tbody>\n",
       "    <tr>\n",
       "      <th>0</th>\n",
       "      <td>1</td>\n",
       "      <td>Toy Story (1995)</td>\n",
       "      <td>Animation|Children's|Comedy</td>\n",
       "    </tr>\n",
       "    <tr>\n",
       "      <th>1</th>\n",
       "      <td>2</td>\n",
       "      <td>Jumanji (1995)</td>\n",
       "      <td>Adventure|Children's|Fantasy</td>\n",
       "    </tr>\n",
       "    <tr>\n",
       "      <th>2</th>\n",
       "      <td>3</td>\n",
       "      <td>Grumpier Old Men (1995)</td>\n",
       "      <td>Comedy|Romance</td>\n",
       "    </tr>\n",
       "    <tr>\n",
       "      <th>3</th>\n",
       "      <td>4</td>\n",
       "      <td>Waiting to Exhale (1995)</td>\n",
       "      <td>Comedy|Drama</td>\n",
       "    </tr>\n",
       "    <tr>\n",
       "      <th>4</th>\n",
       "      <td>5</td>\n",
       "      <td>Father of the Bride Part II (1995)</td>\n",
       "      <td>Comedy</td>\n",
       "    </tr>\n",
       "  </tbody>\n",
       "</table>\n",
       "</div>"
      ],
      "text/plain": [
       "   movie_id                               title                         genre\n",
       "0         1                    Toy Story (1995)   Animation|Children's|Comedy\n",
       "1         2                      Jumanji (1995)  Adventure|Children's|Fantasy\n",
       "2         3             Grumpier Old Men (1995)                Comedy|Romance\n",
       "3         4            Waiting to Exhale (1995)                  Comedy|Drama\n",
       "4         5  Father of the Bride Part II (1995)                        Comedy"
      ]
     },
     "execution_count": 4,
     "metadata": {},
     "output_type": "execute_result"
    }
   ],
   "source": [
    "# 영화 제목을 보기 위해 메타 데이터를 불러오기\n",
    "movie_file_path=os.getenv('HOME') + '/aiffel/recommendata_iu/data/ml-1m/movies.dat'\n",
    "cols = ['movie_id', 'title', 'genre'] \n",
    "movies = pd.read_csv(movie_file_path, sep='::', names=cols, engine='python', encoding='ISO-8859-1')\n",
    "movies.head()"
   ]
  },
  {
   "cell_type": "code",
   "execution_count": 5,
   "id": "canadian-appliance",
   "metadata": {},
   "outputs": [
    {
     "data": {
      "text/html": [
       "<div>\n",
       "<style scoped>\n",
       "    .dataframe tbody tr th:only-of-type {\n",
       "        vertical-align: middle;\n",
       "    }\n",
       "\n",
       "    .dataframe tbody tr th {\n",
       "        vertical-align: top;\n",
       "    }\n",
       "\n",
       "    .dataframe thead th {\n",
       "        text-align: right;\n",
       "    }\n",
       "</style>\n",
       "<table border=\"1\" class=\"dataframe\">\n",
       "  <thead>\n",
       "    <tr style=\"text-align: right;\">\n",
       "      <th></th>\n",
       "      <th>user_id</th>\n",
       "      <th>movie_id</th>\n",
       "      <th>count</th>\n",
       "      <th>timestamp</th>\n",
       "      <th>title</th>\n",
       "      <th>genre</th>\n",
       "    </tr>\n",
       "  </thead>\n",
       "  <tbody>\n",
       "    <tr>\n",
       "      <th>0</th>\n",
       "      <td>1</td>\n",
       "      <td>1193</td>\n",
       "      <td>5</td>\n",
       "      <td>978300760</td>\n",
       "      <td>One Flew Over the Cuckoo's Nest (1975)</td>\n",
       "      <td>Drama</td>\n",
       "    </tr>\n",
       "    <tr>\n",
       "      <th>1</th>\n",
       "      <td>1</td>\n",
       "      <td>661</td>\n",
       "      <td>3</td>\n",
       "      <td>978302109</td>\n",
       "      <td>James and the Giant Peach (1996)</td>\n",
       "      <td>Animation|Children's|Musical</td>\n",
       "    </tr>\n",
       "    <tr>\n",
       "      <th>2</th>\n",
       "      <td>1</td>\n",
       "      <td>914</td>\n",
       "      <td>3</td>\n",
       "      <td>978301968</td>\n",
       "      <td>My Fair Lady (1964)</td>\n",
       "      <td>Musical|Romance</td>\n",
       "    </tr>\n",
       "    <tr>\n",
       "      <th>3</th>\n",
       "      <td>1</td>\n",
       "      <td>3408</td>\n",
       "      <td>4</td>\n",
       "      <td>978300275</td>\n",
       "      <td>Erin Brockovich (2000)</td>\n",
       "      <td>Drama</td>\n",
       "    </tr>\n",
       "    <tr>\n",
       "      <th>4</th>\n",
       "      <td>1</td>\n",
       "      <td>2355</td>\n",
       "      <td>5</td>\n",
       "      <td>978824291</td>\n",
       "      <td>Bug's Life, A (1998)</td>\n",
       "      <td>Animation|Children's|Comedy</td>\n",
       "    </tr>\n",
       "  </tbody>\n",
       "</table>\n",
       "</div>"
      ],
      "text/plain": [
       "   user_id  movie_id  count  timestamp  \\\n",
       "0        1      1193      5  978300760   \n",
       "1        1       661      3  978302109   \n",
       "2        1       914      3  978301968   \n",
       "3        1      3408      4  978300275   \n",
       "4        1      2355      5  978824291   \n",
       "\n",
       "                                    title                         genre  \n",
       "0  One Flew Over the Cuckoo's Nest (1975)                         Drama  \n",
       "1        James and the Giant Peach (1996)  Animation|Children's|Musical  \n",
       "2                     My Fair Lady (1964)               Musical|Romance  \n",
       "3                  Erin Brockovich (2000)                         Drama  \n",
       "4                    Bug's Life, A (1998)   Animation|Children's|Comedy  "
      ]
     },
     "execution_count": 5,
     "metadata": {},
     "output_type": "execute_result"
    }
   ],
   "source": [
    "# 데이터 프레임 만들기: user id, movie id, count, timestamp, title 순\n",
    "data = ratings.join(movies.set_index('movie_id'), on='movie_id')\n",
    "data.head()"
   ]
  },
  {
   "cell_type": "code",
   "execution_count": 6,
   "id": "abandoned-party",
   "metadata": {},
   "outputs": [
    {
     "data": {
      "text/plain": [
       "799                    Midsummer Night's Dream, A (1999)\n",
       "800                           Mission: Impossible (1996)\n",
       "801     Star Wars: Episode I - The Phantom Menace (1999)\n",
       "802                           Defending Your Life (1991)\n",
       "803                                 Breaking Away (1979)\n",
       "                              ...                       \n",
       "1195                             Far Off Place, A (1993)\n",
       "1196                      Flight of the Navigator (1986)\n",
       "1197                            Gnome-Mobile, The (1967)\n",
       "1198                                Graduate, The (1967)\n",
       "1199                    Happiest Millionaire, The (1967)\n",
       "Name: title, Length: 389, dtype: object"
      ]
     },
     "execution_count": 6,
     "metadata": {},
     "output_type": "execute_result"
    }
   ],
   "source": [
    "# user_id 10이 어떤 영화를 시청했는지 알아보기\n",
    "movie_id_user10 = data[data['user_id']== 10]['title']\n",
    "movie_id_user10"
   ]
  },
  {
   "cell_type": "markdown",
   "id": "arranged-textbook",
   "metadata": {},
   "source": [
    "### 2. 분석\n",
    "- ratings에 있는 유니크한 영화 개수\n",
    "- ratings에 있는 유니크한 사용자 수\n",
    "- 가장 인기 있는 영화 30개(인기순)"
   ]
  },
  {
   "cell_type": "code",
   "execution_count": 7,
   "id": "adjacent-namibia",
   "metadata": {},
   "outputs": [
    {
     "name": "stdout",
     "output_type": "stream",
     "text": [
      "ratings에 있는 유니크한 영화 개수:  3628\n",
      "ratings에 있는 유니크한 사용자 수 :  6039\n"
     ]
    }
   ],
   "source": [
    "print('ratings에 있는 유니크한 영화 개수: ', ratings['movie_id'].nunique())\n",
    "print('ratings에 있는 유니크한 사용자 수 : ', ratings['user_id'].nunique())"
   ]
  },
  {
   "cell_type": "code",
   "execution_count": 8,
   "id": "different-sharing",
   "metadata": {},
   "outputs": [
    {
     "name": "stdout",
     "output_type": "stream",
     "text": [
      "가장 인기 있는 영화 30개(인기순)\n"
     ]
    },
    {
     "data": {
      "text/plain": [
       "title\n",
       "American Beauty (1999)                                   3211\n",
       "Star Wars: Episode IV - A New Hope (1977)                2910\n",
       "Star Wars: Episode V - The Empire Strikes Back (1980)    2885\n",
       "Star Wars: Episode VI - Return of the Jedi (1983)        2716\n",
       "Saving Private Ryan (1998)                               2561\n",
       "Terminator 2: Judgment Day (1991)                        2509\n",
       "Silence of the Lambs, The (1991)                         2498\n",
       "Raiders of the Lost Ark (1981)                           2473\n",
       "Back to the Future (1985)                                2460\n",
       "Matrix, The (1999)                                       2434\n",
       "Jurassic Park (1993)                                     2413\n",
       "Sixth Sense, The (1999)                                  2385\n",
       "Fargo (1996)                                             2371\n",
       "Braveheart (1995)                                        2314\n",
       "Men in Black (1997)                                      2297\n",
       "Schindler's List (1993)                                  2257\n",
       "Princess Bride, The (1987)                               2252\n",
       "Shakespeare in Love (1998)                               2213\n",
       "L.A. Confidential (1997)                                 2210\n",
       "Shawshank Redemption, The (1994)                         2194\n",
       "Godfather, The (1972)                                    2167\n",
       "Groundhog Day (1993)                                     2121\n",
       "E.T. the Extra-Terrestrial (1982)                        2102\n",
       "Being John Malkovich (1999)                              2066\n",
       "Ghostbusters (1984)                                      2051\n",
       "Pulp Fiction (1994)                                      2030\n",
       "Forrest Gump (1994)                                      2022\n",
       "Terminator, The (1984)                                   2019\n",
       "Toy Story (1995)                                         2000\n",
       "Fugitive, The (1993)                                     1941\n",
       "Name: user_id, dtype: int64"
      ]
     },
     "execution_count": 8,
     "metadata": {},
     "output_type": "execute_result"
    }
   ],
   "source": [
    "print('가장 인기 있는 영화 30개(인기순)')\n",
    "ratings = ratings.merge(movies, how='left', on='movie_id')\n",
    "ratings.groupby('title')['user_id'].count().sort_values(ascending=False)[:30]"
   ]
  },
  {
   "cell_type": "markdown",
   "id": "smoking-arnold",
   "metadata": {},
   "source": [
    "### 3. 내가 선호하는 영화를 5가지 골라서 ratings에 추가"
   ]
  },
  {
   "cell_type": "code",
   "execution_count": 9,
   "id": "banner-metadata",
   "metadata": {},
   "outputs": [
    {
     "data": {
      "text/html": [
       "<div>\n",
       "<style scoped>\n",
       "    .dataframe tbody tr th:only-of-type {\n",
       "        vertical-align: middle;\n",
       "    }\n",
       "\n",
       "    .dataframe tbody tr th {\n",
       "        vertical-align: top;\n",
       "    }\n",
       "\n",
       "    .dataframe thead th {\n",
       "        text-align: right;\n",
       "    }\n",
       "</style>\n",
       "<table border=\"1\" class=\"dataframe\">\n",
       "  <thead>\n",
       "    <tr style=\"text-align: right;\">\n",
       "      <th></th>\n",
       "      <th>movie_id</th>\n",
       "      <th>title</th>\n",
       "      <th>genre</th>\n",
       "    </tr>\n",
       "  </thead>\n",
       "  <tbody>\n",
       "    <tr>\n",
       "      <th>151</th>\n",
       "      <td>153</td>\n",
       "      <td>Batman Forever (1995)</td>\n",
       "      <td>Action|Adventure|Comedy|Crime</td>\n",
       "    </tr>\n",
       "    <tr>\n",
       "      <th>588</th>\n",
       "      <td>592</td>\n",
       "      <td>Batman (1989)</td>\n",
       "      <td>Action|Adventure|Crime|Drama</td>\n",
       "    </tr>\n",
       "    <tr>\n",
       "      <th>1356</th>\n",
       "      <td>1377</td>\n",
       "      <td>Batman Returns (1992)</td>\n",
       "      <td>Action|Adventure|Comedy|Crime</td>\n",
       "    </tr>\n",
       "    <tr>\n",
       "      <th>1522</th>\n",
       "      <td>1562</td>\n",
       "      <td>Batman &amp; Robin (1997)</td>\n",
       "      <td>Action|Adventure|Crime</td>\n",
       "    </tr>\n",
       "    <tr>\n",
       "      <th>3144</th>\n",
       "      <td>3213</td>\n",
       "      <td>Batman: Mask of the Phantasm (1993)</td>\n",
       "      <td>Animation|Children's</td>\n",
       "    </tr>\n",
       "  </tbody>\n",
       "</table>\n",
       "</div>"
      ],
      "text/plain": [
       "      movie_id                                title  \\\n",
       "151        153                Batman Forever (1995)   \n",
       "588        592                        Batman (1989)   \n",
       "1356      1377                Batman Returns (1992)   \n",
       "1522      1562                Batman & Robin (1997)   \n",
       "3144      3213  Batman: Mask of the Phantasm (1993)   \n",
       "\n",
       "                              genre  \n",
       "151   Action|Adventure|Comedy|Crime  \n",
       "588    Action|Adventure|Crime|Drama  \n",
       "1356  Action|Adventure|Comedy|Crime  \n",
       "1522         Action|Adventure|Crime  \n",
       "3144           Animation|Children's  "
      ]
     },
     "execution_count": 9,
     "metadata": {},
     "output_type": "execute_result"
    }
   ],
   "source": [
    "# 제목으로 찾아보기\n",
    "movies[movies['title'].str.lower().str.contains('batman', regex=False)]"
   ]
  },
  {
   "cell_type": "code",
   "execution_count": 13,
   "id": "intelligent-edward",
   "metadata": {},
   "outputs": [],
   "source": [
    "# 선호하는 5개의 영화 지정\n",
    "my_favorite = ['Sixth Sense, The (1999)', 'batman (1989)', 'Matrix, The (1999)',\n",
    "              'Men in Black (1997)', 'Toy Story (1995)']"
   ]
  },
  {
   "cell_type": "code",
   "execution_count": 14,
   "id": "offensive-basin",
   "metadata": {},
   "outputs": [
    {
     "data": {
      "text/html": [
       "<div>\n",
       "<style scoped>\n",
       "    .dataframe tbody tr th:only-of-type {\n",
       "        vertical-align: middle;\n",
       "    }\n",
       "\n",
       "    .dataframe tbody tr th {\n",
       "        vertical-align: top;\n",
       "    }\n",
       "\n",
       "    .dataframe thead th {\n",
       "        text-align: right;\n",
       "    }\n",
       "</style>\n",
       "<table border=\"1\" class=\"dataframe\">\n",
       "  <thead>\n",
       "    <tr style=\"text-align: right;\">\n",
       "      <th></th>\n",
       "      <th>user_id</th>\n",
       "      <th>movie_id</th>\n",
       "      <th>count</th>\n",
       "      <th>timestamp</th>\n",
       "      <th>title</th>\n",
       "      <th>genre</th>\n",
       "    </tr>\n",
       "  </thead>\n",
       "  <tbody>\n",
       "    <tr>\n",
       "      <th>836473</th>\n",
       "      <td>6040</td>\n",
       "      <td>1090</td>\n",
       "      <td>3</td>\n",
       "      <td>956715518</td>\n",
       "      <td>Platoon (1986)</td>\n",
       "      <td>Drama|War</td>\n",
       "    </tr>\n",
       "    <tr>\n",
       "      <th>836474</th>\n",
       "      <td>6040</td>\n",
       "      <td>1094</td>\n",
       "      <td>5</td>\n",
       "      <td>956704887</td>\n",
       "      <td>Crying Game, The (1992)</td>\n",
       "      <td>Drama|Romance|War</td>\n",
       "    </tr>\n",
       "    <tr>\n",
       "      <th>836475</th>\n",
       "      <td>6040</td>\n",
       "      <td>562</td>\n",
       "      <td>5</td>\n",
       "      <td>956704746</td>\n",
       "      <td>Welcome to the Dollhouse (1995)</td>\n",
       "      <td>Comedy|Drama</td>\n",
       "    </tr>\n",
       "    <tr>\n",
       "      <th>836476</th>\n",
       "      <td>6040</td>\n",
       "      <td>1096</td>\n",
       "      <td>4</td>\n",
       "      <td>956715648</td>\n",
       "      <td>Sophie's Choice (1982)</td>\n",
       "      <td>Drama</td>\n",
       "    </tr>\n",
       "    <tr>\n",
       "      <th>836477</th>\n",
       "      <td>6040</td>\n",
       "      <td>1097</td>\n",
       "      <td>4</td>\n",
       "      <td>956715569</td>\n",
       "      <td>E.T. the Extra-Terrestrial (1982)</td>\n",
       "      <td>Children's|Drama|Fantasy|Sci-Fi</td>\n",
       "    </tr>\n",
       "  </tbody>\n",
       "</table>\n",
       "</div>"
      ],
      "text/plain": [
       "        user_id  movie_id  count  timestamp  \\\n",
       "836473     6040      1090      3  956715518   \n",
       "836474     6040      1094      5  956704887   \n",
       "836475     6040       562      5  956704746   \n",
       "836476     6040      1096      4  956715648   \n",
       "836477     6040      1097      4  956715569   \n",
       "\n",
       "                                    title                            genre  \n",
       "836473                     Platoon (1986)                        Drama|War  \n",
       "836474            Crying Game, The (1992)                Drama|Romance|War  \n",
       "836475    Welcome to the Dollhouse (1995)                     Comedy|Drama  \n",
       "836476             Sophie's Choice (1982)                            Drama  \n",
       "836477  E.T. the Extra-Terrestrial (1982)  Children's|Drama|Fantasy|Sci-Fi  "
      ]
     },
     "execution_count": 14,
     "metadata": {},
     "output_type": "execute_result"
    }
   ],
   "source": [
    "# 나의 user_id를 만들기 위해 ratings의 마지막 5줄 확인\n",
    "ratings.tail()"
   ]
  },
  {
   "cell_type": "code",
   "execution_count": 15,
   "id": "arabic-greek",
   "metadata": {
    "scrolled": true
   },
   "outputs": [
    {
     "data": {
      "text/html": [
       "<div>\n",
       "<style scoped>\n",
       "    .dataframe tbody tr th:only-of-type {\n",
       "        vertical-align: middle;\n",
       "    }\n",
       "\n",
       "    .dataframe tbody tr th {\n",
       "        vertical-align: top;\n",
       "    }\n",
       "\n",
       "    .dataframe thead th {\n",
       "        text-align: right;\n",
       "    }\n",
       "</style>\n",
       "<table border=\"1\" class=\"dataframe\">\n",
       "  <thead>\n",
       "    <tr style=\"text-align: right;\">\n",
       "      <th></th>\n",
       "      <th>user_id</th>\n",
       "      <th>movie_id</th>\n",
       "      <th>count</th>\n",
       "      <th>timestamp</th>\n",
       "      <th>title</th>\n",
       "      <th>genre</th>\n",
       "    </tr>\n",
       "  </thead>\n",
       "  <tbody>\n",
       "    <tr>\n",
       "      <th>836473</th>\n",
       "      <td>6040</td>\n",
       "      <td>1090.0</td>\n",
       "      <td>3</td>\n",
       "      <td>956715518.0</td>\n",
       "      <td>Platoon (1986)</td>\n",
       "      <td>Drama|War</td>\n",
       "    </tr>\n",
       "    <tr>\n",
       "      <th>836474</th>\n",
       "      <td>6040</td>\n",
       "      <td>1094.0</td>\n",
       "      <td>5</td>\n",
       "      <td>956704887.0</td>\n",
       "      <td>Crying Game, The (1992)</td>\n",
       "      <td>Drama|Romance|War</td>\n",
       "    </tr>\n",
       "    <tr>\n",
       "      <th>836475</th>\n",
       "      <td>6040</td>\n",
       "      <td>562.0</td>\n",
       "      <td>5</td>\n",
       "      <td>956704746.0</td>\n",
       "      <td>Welcome to the Dollhouse (1995)</td>\n",
       "      <td>Comedy|Drama</td>\n",
       "    </tr>\n",
       "    <tr>\n",
       "      <th>836476</th>\n",
       "      <td>6040</td>\n",
       "      <td>1096.0</td>\n",
       "      <td>4</td>\n",
       "      <td>956715648.0</td>\n",
       "      <td>Sophie's Choice (1982)</td>\n",
       "      <td>Drama</td>\n",
       "    </tr>\n",
       "    <tr>\n",
       "      <th>836477</th>\n",
       "      <td>6040</td>\n",
       "      <td>1097.0</td>\n",
       "      <td>4</td>\n",
       "      <td>956715569.0</td>\n",
       "      <td>E.T. the Extra-Terrestrial (1982)</td>\n",
       "      <td>Children's|Drama|Fantasy|Sci-Fi</td>\n",
       "    </tr>\n",
       "    <tr>\n",
       "      <th>0</th>\n",
       "      <td>6041</td>\n",
       "      <td>NaN</td>\n",
       "      <td>5</td>\n",
       "      <td>NaN</td>\n",
       "      <td>Sixth Sense, The (1999)</td>\n",
       "      <td>NaN</td>\n",
       "    </tr>\n",
       "    <tr>\n",
       "      <th>1</th>\n",
       "      <td>6041</td>\n",
       "      <td>NaN</td>\n",
       "      <td>5</td>\n",
       "      <td>NaN</td>\n",
       "      <td>batman (1989)</td>\n",
       "      <td>NaN</td>\n",
       "    </tr>\n",
       "    <tr>\n",
       "      <th>2</th>\n",
       "      <td>6041</td>\n",
       "      <td>NaN</td>\n",
       "      <td>5</td>\n",
       "      <td>NaN</td>\n",
       "      <td>Matrix, The (1999)</td>\n",
       "      <td>NaN</td>\n",
       "    </tr>\n",
       "    <tr>\n",
       "      <th>3</th>\n",
       "      <td>6041</td>\n",
       "      <td>NaN</td>\n",
       "      <td>5</td>\n",
       "      <td>NaN</td>\n",
       "      <td>Men in Black (1997)</td>\n",
       "      <td>NaN</td>\n",
       "    </tr>\n",
       "    <tr>\n",
       "      <th>4</th>\n",
       "      <td>6041</td>\n",
       "      <td>NaN</td>\n",
       "      <td>5</td>\n",
       "      <td>NaN</td>\n",
       "      <td>Toy Story (1995)</td>\n",
       "      <td>NaN</td>\n",
       "    </tr>\n",
       "  </tbody>\n",
       "</table>\n",
       "</div>"
      ],
      "text/plain": [
       "       user_id  movie_id  count    timestamp  \\\n",
       "836473    6040    1090.0      3  956715518.0   \n",
       "836474    6040    1094.0      5  956704887.0   \n",
       "836475    6040     562.0      5  956704746.0   \n",
       "836476    6040    1096.0      4  956715648.0   \n",
       "836477    6040    1097.0      4  956715569.0   \n",
       "0         6041       NaN      5          NaN   \n",
       "1         6041       NaN      5          NaN   \n",
       "2         6041       NaN      5          NaN   \n",
       "3         6041       NaN      5          NaN   \n",
       "4         6041       NaN      5          NaN   \n",
       "\n",
       "                                    title                            genre  \n",
       "836473                     Platoon (1986)                        Drama|War  \n",
       "836474            Crying Game, The (1992)                Drama|Romance|War  \n",
       "836475    Welcome to the Dollhouse (1995)                     Comedy|Drama  \n",
       "836476             Sophie's Choice (1982)                            Drama  \n",
       "836477  E.T. the Extra-Terrestrial (1982)  Children's|Drama|Fantasy|Sci-Fi  \n",
       "0                 Sixth Sense, The (1999)                              NaN  \n",
       "1                           batman (1989)                              NaN  \n",
       "2                      Matrix, The (1999)                              NaN  \n",
       "3                     Men in Black (1997)                              NaN  \n",
       "4                        Toy Story (1995)                              NaN  "
      ]
     },
     "execution_count": 15,
     "metadata": {},
     "output_type": "execute_result"
    }
   ],
   "source": [
    "# 나의 user_id를 6041로 만들어 5개의 영화 넣기\n",
    "my_list = pd.DataFrame({'user_id': ['6041']*5, 'title': my_favorite, 'count': [5]*5})\n",
    "\n",
    "if not ratings.isin({'user_id': ['6041']})['user_id'].any():\n",
    "    ratings = ratings.append(my_list)\n",
    "\n",
    "ratings.tail(10)"
   ]
  },
  {
   "cell_type": "markdown",
   "id": "charming-communications",
   "metadata": {},
   "source": [
    "### 4. CSR matrix"
   ]
  },
  {
   "cell_type": "code",
   "execution_count": 16,
   "id": "floral-lease",
   "metadata": {},
   "outputs": [
    {
     "name": "stdout",
     "output_type": "stream",
     "text": [
      "user_id column indexing OK!!\n",
      "title column indexing OK!!\n"
     ]
    },
    {
     "data": {
      "text/html": [
       "<div>\n",
       "<style scoped>\n",
       "    .dataframe tbody tr th:only-of-type {\n",
       "        vertical-align: middle;\n",
       "    }\n",
       "\n",
       "    .dataframe tbody tr th {\n",
       "        vertical-align: top;\n",
       "    }\n",
       "\n",
       "    .dataframe thead th {\n",
       "        text-align: right;\n",
       "    }\n",
       "</style>\n",
       "<table border=\"1\" class=\"dataframe\">\n",
       "  <thead>\n",
       "    <tr style=\"text-align: right;\">\n",
       "      <th></th>\n",
       "      <th>user_id</th>\n",
       "      <th>movie_id</th>\n",
       "      <th>count</th>\n",
       "      <th>timestamp</th>\n",
       "      <th>title</th>\n",
       "      <th>genre</th>\n",
       "    </tr>\n",
       "  </thead>\n",
       "  <tbody>\n",
       "    <tr>\n",
       "      <th>0</th>\n",
       "      <td>0</td>\n",
       "      <td>1193.0</td>\n",
       "      <td>5</td>\n",
       "      <td>978300760.0</td>\n",
       "      <td>0</td>\n",
       "      <td>Drama</td>\n",
       "    </tr>\n",
       "    <tr>\n",
       "      <th>1</th>\n",
       "      <td>0</td>\n",
       "      <td>661.0</td>\n",
       "      <td>3</td>\n",
       "      <td>978302109.0</td>\n",
       "      <td>1</td>\n",
       "      <td>Animation|Children's|Musical</td>\n",
       "    </tr>\n",
       "    <tr>\n",
       "      <th>2</th>\n",
       "      <td>0</td>\n",
       "      <td>914.0</td>\n",
       "      <td>3</td>\n",
       "      <td>978301968.0</td>\n",
       "      <td>2</td>\n",
       "      <td>Musical|Romance</td>\n",
       "    </tr>\n",
       "    <tr>\n",
       "      <th>3</th>\n",
       "      <td>0</td>\n",
       "      <td>3408.0</td>\n",
       "      <td>4</td>\n",
       "      <td>978300275.0</td>\n",
       "      <td>3</td>\n",
       "      <td>Drama</td>\n",
       "    </tr>\n",
       "    <tr>\n",
       "      <th>4</th>\n",
       "      <td>0</td>\n",
       "      <td>2355.0</td>\n",
       "      <td>5</td>\n",
       "      <td>978824291.0</td>\n",
       "      <td>4</td>\n",
       "      <td>Animation|Children's|Comedy</td>\n",
       "    </tr>\n",
       "    <tr>\n",
       "      <th>...</th>\n",
       "      <td>...</td>\n",
       "      <td>...</td>\n",
       "      <td>...</td>\n",
       "      <td>...</td>\n",
       "      <td>...</td>\n",
       "      <td>...</td>\n",
       "    </tr>\n",
       "    <tr>\n",
       "      <th>0</th>\n",
       "      <td>6039</td>\n",
       "      <td>NaN</td>\n",
       "      <td>5</td>\n",
       "      <td>NaN</td>\n",
       "      <td>38</td>\n",
       "      <td>NaN</td>\n",
       "    </tr>\n",
       "    <tr>\n",
       "      <th>1</th>\n",
       "      <td>6039</td>\n",
       "      <td>NaN</td>\n",
       "      <td>5</td>\n",
       "      <td>NaN</td>\n",
       "      <td>3628</td>\n",
       "      <td>NaN</td>\n",
       "    </tr>\n",
       "    <tr>\n",
       "      <th>2</th>\n",
       "      <td>6039</td>\n",
       "      <td>NaN</td>\n",
       "      <td>5</td>\n",
       "      <td>NaN</td>\n",
       "      <td>124</td>\n",
       "      <td>NaN</td>\n",
       "    </tr>\n",
       "    <tr>\n",
       "      <th>3</th>\n",
       "      <td>6039</td>\n",
       "      <td>NaN</td>\n",
       "      <td>5</td>\n",
       "      <td>NaN</td>\n",
       "      <td>175</td>\n",
       "      <td>NaN</td>\n",
       "    </tr>\n",
       "    <tr>\n",
       "      <th>4</th>\n",
       "      <td>6039</td>\n",
       "      <td>NaN</td>\n",
       "      <td>5</td>\n",
       "      <td>NaN</td>\n",
       "      <td>40</td>\n",
       "      <td>NaN</td>\n",
       "    </tr>\n",
       "  </tbody>\n",
       "</table>\n",
       "<p>836483 rows × 6 columns</p>\n",
       "</div>"
      ],
      "text/plain": [
       "    user_id  movie_id  count    timestamp  title                         genre\n",
       "0         0    1193.0      5  978300760.0      0                         Drama\n",
       "1         0     661.0      3  978302109.0      1  Animation|Children's|Musical\n",
       "2         0     914.0      3  978301968.0      2               Musical|Romance\n",
       "3         0    3408.0      4  978300275.0      3                         Drama\n",
       "4         0    2355.0      5  978824291.0      4   Animation|Children's|Comedy\n",
       "..      ...       ...    ...          ...    ...                           ...\n",
       "0      6039       NaN      5          NaN     38                           NaN\n",
       "1      6039       NaN      5          NaN   3628                           NaN\n",
       "2      6039       NaN      5          NaN    124                           NaN\n",
       "3      6039       NaN      5          NaN    175                           NaN\n",
       "4      6039       NaN      5          NaN     40                           NaN\n",
       "\n",
       "[836483 rows x 6 columns]"
      ]
     },
     "execution_count": 16,
     "metadata": {},
     "output_type": "execute_result"
    }
   ],
   "source": [
    "# CSR Matrix 만들기\n",
    "user_unique = ratings['user_id'].unique()\n",
    "movie_unique = ratings['title'].unique()\n",
    "\n",
    "user_to_idx = {v:k for k,v in enumerate(user_unique)}\n",
    "movie_to_idx = {v:k for k,v in enumerate(movie_unique)}\n",
    "\n",
    "temp_user_data = ratings['user_id'].map(user_to_idx.get).dropna()\n",
    "if len(temp_user_data) == len(ratings):\n",
    "    print('user_id column indexing OK!!')\n",
    "    ratings['user_id'] = temp_user_data\n",
    "else:\n",
    "    print('user_id column indexing Fail!!')\n",
    "\n",
    "temp_movie_data = ratings['title'].map(movie_to_idx.get).dropna()\n",
    "if len(temp_movie_data) == len(ratings):\n",
    "    print('title column indexing OK!!')\n",
    "    ratings['title'] = temp_movie_data\n",
    "else:\n",
    "    print('title column indexing Fail!!')\n",
    "\n",
    "ratings"
   ]
  },
  {
   "cell_type": "code",
   "execution_count": 17,
   "id": "scenic-happening",
   "metadata": {},
   "outputs": [
    {
     "data": {
      "text/plain": [
       "<6040x3629 sparse matrix of type '<class 'numpy.longlong'>'\n",
       "\twith 836483 stored elements in Compressed Sparse Row format>"
      ]
     },
     "execution_count": 17,
     "metadata": {},
     "output_type": "execute_result"
    }
   ],
   "source": [
    "from scipy.sparse import csr_matrix\n",
    "\n",
    "#data column 값을 indexing 값으로 교체\n",
    "#user_to_idx.get을 통해 user_id 컬럼의 모든 값을 인덱싱\n",
    "#movie_to_idx을 통해 title 컬럼도 동일한 방식으로 인덱싱\n",
    "\n",
    "num_user = ratings['user_id'].nunique()\n",
    "num_movie = ratings['title'].nunique()\n",
    "\n",
    "csr_data = csr_matrix((ratings['count'], (ratings.user_id, ratings.title)), shape= (num_user, num_movie))\n",
    "csr_data"
   ]
  },
  {
   "cell_type": "markdown",
   "id": "conditional-divorce",
   "metadata": {},
   "source": [
    "### 5. als_model = AlternatingLeastSquares 모델을 직접 구성하여 훈련"
   ]
  },
  {
   "cell_type": "code",
   "execution_count": 18,
   "id": "available-collector",
   "metadata": {},
   "outputs": [],
   "source": [
    "# Implicit Data는 유저가 간접적(Implicit)으로 선호, 취향을 나타내는 데이터를 의미한다\n",
    "from implicit.als import AlternatingLeastSquares\n",
    "import os\n",
    "import numpy as np\n",
    "\n",
    "# implicit 권장 세팅\n",
    "os.environ['OPENBLAS_NUM_THREADS']='1'\n",
    "os.environ['KMP_DUPLICATE_LIB_OK']='True'\n",
    "os.environ['MKL_NUM_THREADS']='1'\n",
    "\n",
    "als_model = AlternatingLeastSquares(factors=100, \n",
    "                                    regularization=0.01, \n",
    "                                    use_gpu=False, \n",
    "                                    iterations=15, \n",
    "                                    dtype=np.float32)"
   ]
  },
  {
   "cell_type": "code",
   "execution_count": 19,
   "id": "compliant-envelope",
   "metadata": {},
   "outputs": [
    {
     "data": {
      "text/plain": [
       "<3629x6040 sparse matrix of type '<class 'numpy.longlong'>'\n",
       "\twith 836483 stored elements in Compressed Sparse Column format>"
      ]
     },
     "execution_count": 19,
     "metadata": {},
     "output_type": "execute_result"
    }
   ],
   "source": [
    "# 모델 Matrix transpose\n",
    "csr_data_transpose = csr_data.T\n",
    "csr_data_transpose"
   ]
  },
  {
   "cell_type": "code",
   "execution_count": 20,
   "id": "economic-insider",
   "metadata": {},
   "outputs": [
    {
     "data": {
      "application/vnd.jupyter.widget-view+json": {
       "model_id": "a97db8012c004017a82e7dfc5568f7dd",
       "version_major": 2,
       "version_minor": 0
      },
      "text/plain": [
       "  0%|          | 0/15 [00:00<?, ?it/s]"
      ]
     },
     "metadata": {},
     "output_type": "display_data"
    }
   ],
   "source": [
    "# 모델 훈련\n",
    "als_model.fit(csr_data_transpose)"
   ]
  },
  {
   "cell_type": "markdown",
   "id": "endless-leeds",
   "metadata": {},
   "source": [
    "### 6. 내가 선호하는 5가지 영화 중 하나와 그 외의 영화 하나를 골라 훈련된 모델이 예측한 나의 선호도를 파악"
   ]
  },
  {
   "cell_type": "code",
   "execution_count": 26,
   "id": "right-sitting",
   "metadata": {},
   "outputs": [],
   "source": [
    "preference, sixthsense = user_to_idx['6041'], movie_to_idx['Sixth Sense, The (1999)']\n",
    "preference_vector, sixthsense_vector = als_model.user_factors[preference], als_model.item_factors[sixthsense]"
   ]
  },
  {
   "cell_type": "code",
   "execution_count": 27,
   "id": "victorian-finance",
   "metadata": {
    "scrolled": true
   },
   "outputs": [
    {
     "data": {
      "text/plain": [
       "array([ 0.7009415 , -0.7581013 ,  0.21781169,  0.24175513, -0.25984684,\n",
       "        0.07331309, -0.5337341 ,  0.19631575,  0.02664329,  0.6300258 ,\n",
       "       -1.3620044 , -0.6988337 , -0.5363199 , -0.23079415,  0.47954074,\n",
       "        0.3201878 ,  0.19655864,  0.10880958,  0.4492817 , -0.15586466,\n",
       "        0.5226364 , -0.8615651 , -0.32082286,  0.23716785, -0.30980042,\n",
       "        0.23278026,  0.04232532,  0.5421749 ,  0.37239608, -0.00742769,\n",
       "        0.21391828,  0.05516662, -0.10693467, -0.775651  ,  0.25155652,\n",
       "       -0.2994681 ,  1.1272333 , -0.32485056,  0.0464655 , -0.70566744,\n",
       "        1.0516952 , -0.89811665, -0.06442402, -0.45431423,  0.25374562,\n",
       "       -0.3838175 ,  0.48926592,  0.05258114,  0.37516004, -0.7852077 ,\n",
       "        0.6161453 ,  0.2651864 , -0.4773746 ,  0.3039889 , -0.31702864,\n",
       "        0.80215484,  0.16299044,  0.06679183,  0.06692396, -0.2533681 ,\n",
       "        0.35864758,  0.4134138 , -0.7198443 ,  0.7966285 , -1.0409538 ,\n",
       "        0.30354515, -0.14173596, -0.9428875 , -0.1314913 , -0.55051935,\n",
       "       -0.32181942,  0.21701223,  0.01369508,  0.6418689 ,  0.6753021 ,\n",
       "       -0.24125229,  0.14975053,  0.25020722,  0.36815676, -0.00405039,\n",
       "       -0.01243479,  0.23715095, -0.29654342,  0.47489884, -0.223224  ,\n",
       "        0.6972305 ,  0.33087075,  0.44907498, -0.12407812, -0.31256753,\n",
       "        0.289906  , -0.7340246 , -0.6685488 ,  0.42575717, -0.15057512,\n",
       "        0.3283192 , -0.247677  , -0.0686431 ,  0.5648305 ,  0.7156849 ],\n",
       "      dtype=float32)"
      ]
     },
     "execution_count": 27,
     "metadata": {},
     "output_type": "execute_result"
    }
   ],
   "source": [
    "preference_vector"
   ]
  },
  {
   "cell_type": "code",
   "execution_count": 28,
   "id": "interim-astronomy",
   "metadata": {
    "scrolled": false
   },
   "outputs": [
    {
     "data": {
      "text/plain": [
       "array([ 0.02205221,  0.01413373,  0.03755835,  0.00875664,  0.00642459,\n",
       "       -0.00540978, -0.03847275,  0.00370744, -0.00694549,  0.01522527,\n",
       "       -0.03075906, -0.03108677, -0.00821988,  0.0324733 ,  0.0204129 ,\n",
       "        0.00558516, -0.00917993,  0.00787677,  0.02140114,  0.00052991,\n",
       "        0.0412479 , -0.01407405, -0.00759039,  0.00225028, -0.02144875,\n",
       "        0.0141123 , -0.01555049,  0.02243233,  0.00759279, -0.0096095 ,\n",
       "        0.00693261, -0.01141403,  0.01048296, -0.01865646,  0.03223016,\n",
       "       -0.01887689,  0.05462177, -0.02014632,  0.02627778, -0.0291778 ,\n",
       "        0.02648038, -0.00745983, -0.00491434, -0.01749343,  0.02851213,\n",
       "        0.01194941,  0.02030446, -0.01282433, -0.01244222, -0.00456017,\n",
       "        0.01120098, -0.01696716, -0.00028941,  0.01306434,  0.02208516,\n",
       "        0.03925216, -0.02183815,  0.01768911, -0.00085477, -0.01096876,\n",
       "        0.02643718,  0.00775836, -0.02956561,  0.01335054,  0.00258068,\n",
       "        0.01818206,  0.01405894,  0.00266796, -0.01991807,  0.00349355,\n",
       "        0.0041557 ,  0.0313067 , -0.00390185, -0.02782055,  0.00523235,\n",
       "       -0.01528853, -0.01647691,  0.02402662,  0.03317347,  0.01405404,\n",
       "        0.0247502 ,  0.00026672,  0.03169393,  0.03935274, -0.01951508,\n",
       "        0.02670432,  0.04353263,  0.02861939,  0.00791061, -0.00238378,\n",
       "        0.0142269 ,  0.00606365, -0.01271547,  0.03928622,  0.00833352,\n",
       "        0.02587681, -0.02972564, -0.00421165,  0.00268159,  0.06145531],\n",
       "      dtype=float32)"
      ]
     },
     "execution_count": 28,
     "metadata": {},
     "output_type": "execute_result"
    }
   ],
   "source": [
    "sixthsense_vector"
   ]
  },
  {
   "cell_type": "code",
   "execution_count": 29,
   "id": "matched-daughter",
   "metadata": {
    "scrolled": true
   },
   "outputs": [
    {
     "data": {
      "text/plain": [
       "0.586615"
      ]
     },
     "execution_count": 29,
     "metadata": {},
     "output_type": "execute_result"
    }
   ],
   "source": [
    "# 나의 선호도 영화와 식스센스, 내적 \n",
    "np.dot(preference_vector, sixthsense_vector)"
   ]
  },
  {
   "cell_type": "code",
   "execution_count": 34,
   "id": "iraqi-ontario",
   "metadata": {},
   "outputs": [
    {
     "data": {
      "text/plain": [
       "0.2178039"
      ]
     },
     "execution_count": 34,
     "metadata": {},
     "output_type": "execute_result"
    }
   ],
   "source": [
    "# Bug's Life에 대한 선호도 예측\n",
    "bugs_life = movie_to_idx[\"Bug's Life, A (1998)\"]\n",
    "bugs_life_vector = als_model.item_factors[bugs_life]\n",
    "np.dot(preference_vector, bugs_life_vector)"
   ]
  },
  {
   "cell_type": "code",
   "execution_count": 36,
   "id": "constitutional-motor",
   "metadata": {},
   "outputs": [
    {
     "data": {
      "text/plain": [
       "0.44822252"
      ]
     },
     "execution_count": 36,
     "metadata": {},
     "output_type": "execute_result"
    }
   ],
   "source": [
    "# Jurassic Park에 대한 선호도 예측\n",
    "jurassic_park = movie_to_idx[\"Jurassic Park (1993)\"]\n",
    "jurassic_park_vector = als_model.item_factors[jurassic_park]\n",
    "np.dot(preference_vector, jurassic_park_vector)"
   ]
  },
  {
   "cell_type": "markdown",
   "id": "coral-genetics",
   "metadata": {},
   "source": [
    "### 7. 내가 좋아하는 영화와 비슷한 영화를 추천받아보기"
   ]
  },
  {
   "cell_type": "code",
   "execution_count": 37,
   "id": "parliamentary-utility",
   "metadata": {},
   "outputs": [],
   "source": [
    "def get_similar_artist(movie_title: str):\n",
    "    movie_id = movie_to_idx[movie_title]\n",
    "    similar_movie = als_model.similar_items(movie_id)\n",
    "    idx_to_movie = {v:k for k,v in movie_to_idx.items()}\n",
    "    similar_movie = [idx_to_movie[i[0]] for i in similar_movie]\n",
    "    return similar_movie"
   ]
  },
  {
   "cell_type": "code",
   "execution_count": 38,
   "id": "stunning-arthritis",
   "metadata": {},
   "outputs": [
    {
     "data": {
      "text/plain": [
       "['Sixth Sense, The (1999)',\n",
       " 'Silence of the Lambs, The (1991)',\n",
       " 'batman (1989)',\n",
       " 'Usual Suspects, The (1995)',\n",
       " 'Bone Collector, The (1999)',\n",
       " 'Fugitive, The (1993)',\n",
       " 'Ghostbusters (1984)',\n",
       " 'Seven (Se7en) (1995)',\n",
       " 'Sleepy Hollow (1999)',\n",
       " 'Fight Club (1999)']"
      ]
     },
     "execution_count": 38,
     "metadata": {},
     "output_type": "execute_result"
    }
   ],
   "source": [
    "get_similar_artist('Sixth Sense, The (1999)')"
   ]
  },
  {
   "cell_type": "code",
   "execution_count": 39,
   "id": "whole-diversity",
   "metadata": {},
   "outputs": [
    {
     "data": {
      "text/plain": [
       "['batman (1989)',\n",
       " 'Number Seventeen (1932)',\n",
       " 'Daens (1992)',\n",
       " 'War at Home, The (1996)',\n",
       " 'Century (1993)',\n",
       " \"Brother's Kiss, A (1997)\",\n",
       " 'Last of the High Kings, The (a.k.a. Summer Fling) (1996)',\n",
       " \"Another Man's Poison (1952)\",\n",
       " 'Male and Female (1919)',\n",
       " 'Neon Bible, The (1995)']"
      ]
     },
     "execution_count": 39,
     "metadata": {},
     "output_type": "execute_result"
    }
   ],
   "source": [
    "get_similar_artist('batman (1989)')"
   ]
  },
  {
   "cell_type": "code",
   "execution_count": 40,
   "id": "suspected-terrain",
   "metadata": {},
   "outputs": [
    {
     "data": {
      "text/plain": [
       "['Matrix, The (1999)',\n",
       " 'Terminator 2: Judgment Day (1991)',\n",
       " 'Total Recall (1990)',\n",
       " 'Fugitive, The (1993)',\n",
       " 'Terminator, The (1984)',\n",
       " 'batman (1989)',\n",
       " 'Fifth Element, The (1997)',\n",
       " 'Jurassic Park (1993)',\n",
       " 'Men in Black (1997)',\n",
       " 'Face/Off (1997)']"
      ]
     },
     "execution_count": 40,
     "metadata": {},
     "output_type": "execute_result"
    }
   ],
   "source": [
    "get_similar_artist('Matrix, The (1999)')"
   ]
  },
  {
   "cell_type": "code",
   "execution_count": 41,
   "id": "following-preference",
   "metadata": {},
   "outputs": [
    {
     "data": {
      "text/plain": [
       "['Men in Black (1997)',\n",
       " 'Jurassic Park (1993)',\n",
       " 'Terminator 2: Judgment Day (1991)',\n",
       " 'Total Recall (1990)',\n",
       " 'Independence Day (ID4) (1996)',\n",
       " 'Matrix, The (1999)',\n",
       " 'Fifth Element, The (1997)',\n",
       " 'Lost World: Jurassic Park, The (1997)',\n",
       " 'batman (1989)',\n",
       " 'Face/Off (1997)']"
      ]
     },
     "execution_count": 41,
     "metadata": {},
     "output_type": "execute_result"
    }
   ],
   "source": [
    "get_similar_artist('Men in Black (1997)')"
   ]
  },
  {
   "cell_type": "code",
   "execution_count": 42,
   "id": "intermediate-fancy",
   "metadata": {},
   "outputs": [
    {
     "data": {
      "text/plain": [
       "['Toy Story (1995)',\n",
       " 'Toy Story 2 (1999)',\n",
       " \"Bug's Life, A (1998)\",\n",
       " 'Babe (1995)',\n",
       " 'Aladdin (1992)',\n",
       " 'Groundhog Day (1993)',\n",
       " 'Lion King, The (1994)',\n",
       " 'Pleasantville (1998)',\n",
       " 'Beauty and the Beast (1991)',\n",
       " 'batman (1989)']"
      ]
     },
     "execution_count": 42,
     "metadata": {},
     "output_type": "execute_result"
    }
   ],
   "source": [
    "get_similar_artist('Toy Story (1995)')"
   ]
  },
  {
   "cell_type": "markdown",
   "id": "lesser-pizza",
   "metadata": {},
   "source": [
    "### 8. 내가 가장 좋아할 만한 영화들을 추천받기"
   ]
  },
  {
   "cell_type": "code",
   "execution_count": 43,
   "id": "previous-hazard",
   "metadata": {},
   "outputs": [
    {
     "data": {
      "text/plain": [
       "['Terminator 2: Judgment Day (1991)',\n",
       " 'Jurassic Park (1993)',\n",
       " 'Toy Story 2 (1999)',\n",
       " 'Fugitive, The (1993)',\n",
       " 'Total Recall (1990)',\n",
       " 'Galaxy Quest (1999)',\n",
       " 'Silence of the Lambs, The (1991)',\n",
       " 'Babe (1995)',\n",
       " 'Star Wars: Episode I - The Phantom Menace (1999)',\n",
       " 'Groundhog Day (1993)',\n",
       " 'Forrest Gump (1994)',\n",
       " 'Hunt for Red October, The (1990)',\n",
       " \"Bug's Life, A (1998)\",\n",
       " 'Fargo (1996)',\n",
       " 'Lion King, The (1994)',\n",
       " 'Saving Private Ryan (1998)',\n",
       " 'American Beauty (1999)',\n",
       " 'E.T. the Extra-Terrestrial (1982)',\n",
       " 'Aladdin (1992)',\n",
       " 'Fifth Element, The (1997)']"
      ]
     },
     "execution_count": 43,
     "metadata": {},
     "output_type": "execute_result"
    }
   ],
   "source": [
    "user = user_to_idx['6041']\n",
    "movie_recommended = als_model.recommend(user, csr_data, N=20, filter_already_liked_items=True)\n",
    "\n",
    "# 영화 제목으로 인덱스 변환\n",
    "idx_to_movie = {v:k for k,v in movie_to_idx.items()}\n",
    "recommend_movies = [idx_to_movie[i[0]] for i in movie_recommended]\n",
    "recommend_movies"
   ]
  }
 ],
 "metadata": {
  "kernelspec": {
   "display_name": "Python 3",
   "language": "python",
   "name": "python3"
  },
  "language_info": {
   "codemirror_mode": {
    "name": "ipython",
    "version": 3
   },
   "file_extension": ".py",
   "mimetype": "text/x-python",
   "name": "python",
   "nbconvert_exporter": "python",
   "pygments_lexer": "ipython3",
   "version": "3.7.9"
  }
 },
 "nbformat": 4,
 "nbformat_minor": 5
}
