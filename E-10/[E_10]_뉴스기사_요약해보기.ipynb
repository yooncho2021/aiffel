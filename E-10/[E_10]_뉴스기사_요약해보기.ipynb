{
  "nbformat": 4,
  "nbformat_minor": 5,
  "metadata": {
    "kernelspec": {
      "display_name": "Python 3",
      "language": "python",
      "name": "python3"
    },
    "language_info": {
      "codemirror_mode": {
        "name": "ipython",
        "version": 3
      },
      "file_extension": ".py",
      "mimetype": "text/x-python",
      "name": "python",
      "nbconvert_exporter": "python",
      "pygments_lexer": "ipython3",
      "version": "3.7.9"
    },
    "colab": {
      "name": "[E-10] 뉴스기사 요약해보기.ipynb",
      "provenance": []
    }
  },
  "cells": [
    {
      "cell_type": "markdown",
      "metadata": {
        "id": "handed-actor"
      },
      "source": [
        "## Step 1. 데이터 수집하기"
      ],
      "id": "handed-actor"
    },
    {
      "cell_type": "code",
      "metadata": {
        "id": "heated-textbook"
      },
      "source": [
        "# 라이브러리 세팅\n",
        "import numpy as np\n",
        "import pandas as pd\n",
        "import os\n",
        "import re\n",
        "import matplotlib.pyplot as plt\n",
        "from nltk.corpus import stopwords\n",
        "from bs4 import BeautifulSoup \n",
        "from tensorflow.keras.preprocessing.text import Tokenizer \n",
        "from tensorflow.keras.preprocessing.sequence import pad_sequences\n",
        "import urllib.request"
      ],
      "id": "heated-textbook",
      "execution_count": null,
      "outputs": []
    },
    {
      "cell_type": "code",
      "metadata": {
        "id": "compound-brief"
      },
      "source": [
        "# 데이터 끌어오기\n",
        "import pandas as pd\n",
        "import urllib.request\n",
        "urllib.request.urlretrieve(\"https://raw.githubusercontent.com/sunnysai12345/News_Summary/master/news_summary_more.csv\", filename=\"news_summary_more.csv\")\n",
        "data = pd.read_csv('news_summary_more.csv', encoding='iso-8859-1')"
      ],
      "id": "compound-brief",
      "execution_count": null,
      "outputs": []
    },
    {
      "cell_type": "code",
      "metadata": {
        "id": "federal-asbestos",
        "outputId": "840be495-4165-4458-dfa0-d27d8ebe8248"
      },
      "source": [
        "# 데이터 확인\n",
        "data.sample(10)"
      ],
      "id": "federal-asbestos",
      "execution_count": null,
      "outputs": [
        {
          "data": {
            "text/html": [
              "<div>\n",
              "<style scoped>\n",
              "    .dataframe tbody tr th:only-of-type {\n",
              "        vertical-align: middle;\n",
              "    }\n",
              "\n",
              "    .dataframe tbody tr th {\n",
              "        vertical-align: top;\n",
              "    }\n",
              "\n",
              "    .dataframe thead th {\n",
              "        text-align: right;\n",
              "    }\n",
              "</style>\n",
              "<table border=\"1\" class=\"dataframe\">\n",
              "  <thead>\n",
              "    <tr style=\"text-align: right;\">\n",
              "      <th></th>\n",
              "      <th>headlines</th>\n",
              "      <th>text</th>\n",
              "    </tr>\n",
              "  </thead>\n",
              "  <tbody>\n",
              "    <tr>\n",
              "      <th>77510</th>\n",
              "      <td>Coca-Cola ordered to pay Ã¢ÂÂ¹286 crore in ta...</td>\n",
              "      <td>Israel's Tax Authority has reportedly asked Co...</td>\n",
              "    </tr>\n",
              "    <tr>\n",
              "      <th>17831</th>\n",
              "      <td>Got Ã¢ÂÂ¹5cr offer to drop rape case against ...</td>\n",
              "      <td>The brother of the Kerala rape survivor nun ha...</td>\n",
              "    </tr>\n",
              "    <tr>\n",
              "      <th>18743</th>\n",
              "      <td>Anushka greeted with chants of 'Kohli Kohli' i...</td>\n",
              "      <td>Bollywood actor Anushka Sharma was greeted wit...</td>\n",
              "    </tr>\n",
              "    <tr>\n",
              "      <th>36431</th>\n",
              "      <td>3 infants die, 6 fall sick after vaccination d...</td>\n",
              "      <td>A total of three infants have died and six oth...</td>\n",
              "    </tr>\n",
              "    <tr>\n",
              "      <th>60154</th>\n",
              "      <td>Congress releases first list of candidates for...</td>\n",
              "      <td>The Congress on Sunday released its first list...</td>\n",
              "    </tr>\n",
              "    <tr>\n",
              "      <th>49124</th>\n",
              "      <td>Paytm Founder backs India's 1st AR headset Ajn...</td>\n",
              "      <td>Dimension NXG, which has developed India's fir...</td>\n",
              "    </tr>\n",
              "    <tr>\n",
              "      <th>59612</th>\n",
              "      <td>Johar to launch Bigg Boss 11's Priyank in SOTY...</td>\n",
              "      <td>Filmmaker Karan Johar will launch 'Bigg Boss 1...</td>\n",
              "    </tr>\n",
              "    <tr>\n",
              "      <th>50004</th>\n",
              "      <td>Kabul hotel attacker trained by Pakistan's ISI...</td>\n",
              "      <td>One of the terrorists who killed over 20 peopl...</td>\n",
              "    </tr>\n",
              "    <tr>\n",
              "      <th>36088</th>\n",
              "      <td>Zuckerberg apologises for remark on hate speec...</td>\n",
              "      <td>Facebook CEO Mark Zuckerberg has apologised fo...</td>\n",
              "    </tr>\n",
              "    <tr>\n",
              "      <th>86811</th>\n",
              "      <td>Black holes swallow stars as a whole: Study</td>\n",
              "      <td>US-based scientists have made another study ag...</td>\n",
              "    </tr>\n",
              "  </tbody>\n",
              "</table>\n",
              "</div>"
            ],
            "text/plain": [
              "                                               headlines  \\\n",
              "77510  Coca-Cola ordered to pay Ã¢ÂÂ¹286 crore in ta...   \n",
              "17831  Got Ã¢ÂÂ¹5cr offer to drop rape case against ...   \n",
              "18743  Anushka greeted with chants of 'Kohli Kohli' i...   \n",
              "36431  3 infants die, 6 fall sick after vaccination d...   \n",
              "60154  Congress releases first list of candidates for...   \n",
              "49124  Paytm Founder backs India's 1st AR headset Ajn...   \n",
              "59612  Johar to launch Bigg Boss 11's Priyank in SOTY...   \n",
              "50004  Kabul hotel attacker trained by Pakistan's ISI...   \n",
              "36088  Zuckerberg apologises for remark on hate speec...   \n",
              "86811        Black holes swallow stars as a whole: Study   \n",
              "\n",
              "                                                    text  \n",
              "77510  Israel's Tax Authority has reportedly asked Co...  \n",
              "17831  The brother of the Kerala rape survivor nun ha...  \n",
              "18743  Bollywood actor Anushka Sharma was greeted wit...  \n",
              "36431  A total of three infants have died and six oth...  \n",
              "60154  The Congress on Sunday released its first list...  \n",
              "49124  Dimension NXG, which has developed India's fir...  \n",
              "59612  Filmmaker Karan Johar will launch 'Bigg Boss 1...  \n",
              "50004  One of the terrorists who killed over 20 peopl...  \n",
              "36088  Facebook CEO Mark Zuckerberg has apologised fo...  \n",
              "86811  US-based scientists have made another study ag...  "
            ]
          },
          "execution_count": 3,
          "metadata": {},
          "output_type": "execute_result"
        }
      ]
    },
    {
      "cell_type": "markdown",
      "metadata": {
        "id": "detailed-sleep"
      },
      "source": [
        "## Step 2. 데이터 전처리하기 (추상적 요약)"
      ],
      "id": "detailed-sleep"
    },
    {
      "cell_type": "code",
      "metadata": {
        "id": "stuffed-unknown",
        "outputId": "0085ad61-ea9a-4071-e789-f3002302b7f7"
      },
      "source": [
        "# 유티크한 데이터 확인\n",
        "print('Headlines 열에서 중복을 배제한 유일한 샘플의 수 :', data['headlines'].nunique())\n",
        "print('Text 열에서 중복을 배제한 유일한 샘플의 수 :', data['text'].nunique())"
      ],
      "id": "stuffed-unknown",
      "execution_count": null,
      "outputs": [
        {
          "name": "stdout",
          "output_type": "stream",
          "text": [
            "Headlines 열에서 중복을 배제한 유일한 샘플의 수 : 98280\n",
            "Text 열에서 중복을 배제한 유일한 샘플의 수 : 98360\n"
          ]
        }
      ]
    },
    {
      "cell_type": "code",
      "metadata": {
        "id": "frank-sustainability",
        "outputId": "95fcd8fe-9107-4105-f835-27fba4e9113d"
      },
      "source": [
        "# 중복 샘플 제거\n",
        "# inplace=True 를 설정하여 DataFrame 타입 값을 return 하지 않고 data 내부를 직접적으로 바꾼다\n",
        "data.drop_duplicates(subset = ['text'], inplace=True)\n",
        "print('전체 샘플수 :', (len(data)))"
      ],
      "id": "frank-sustainability",
      "execution_count": null,
      "outputs": [
        {
          "name": "stdout",
          "output_type": "stream",
          "text": [
            "전체 샘플수 : 98360\n"
          ]
        }
      ]
    },
    {
      "cell_type": "markdown",
      "metadata": {
        "id": "norwegian-treasure"
      },
      "source": [
        "Null 값이 없음"
      ],
      "id": "norwegian-treasure"
    },
    {
      "cell_type": "code",
      "metadata": {
        "id": "arctic-knight",
        "outputId": "3edd72b4-ed62-4dcc-c231-921618a64a2b"
      },
      "source": [
        "# 텍스트 정규화\n",
        "contractions = {\"ain't\": \"is not\", \"aren't\": \"are not\",\"can't\": \"cannot\", \"'cause\": \"because\", \"could've\": \"could have\", \"couldn't\": \"could not\",\n",
        "                           \"didn't\": \"did not\",  \"doesn't\": \"does not\", \"don't\": \"do not\", \"hadn't\": \"had not\", \"hasn't\": \"has not\", \"haven't\": \"have not\",\n",
        "                           \"he'd\": \"he would\",\"he'll\": \"he will\", \"he's\": \"he is\", \"how'd\": \"how did\", \"how'd'y\": \"how do you\", \"how'll\": \"how will\", \"how's\": \"how is\",\n",
        "                           \"I'd\": \"I would\", \"I'd've\": \"I would have\", \"I'll\": \"I will\", \"I'll've\": \"I will have\",\"I'm\": \"I am\", \"I've\": \"I have\", \"i'd\": \"i would\",\n",
        "                           \"i'd've\": \"i would have\", \"i'll\": \"i will\",  \"i'll've\": \"i will have\",\"i'm\": \"i am\", \"i've\": \"i have\", \"isn't\": \"is not\", \"it'd\": \"it would\",\n",
        "                           \"it'd've\": \"it would have\", \"it'll\": \"it will\", \"it'll've\": \"it will have\",\"it's\": \"it is\", \"let's\": \"let us\", \"ma'am\": \"madam\",\n",
        "                           \"mayn't\": \"may not\", \"might've\": \"might have\",\"mightn't\": \"might not\",\"mightn't've\": \"might not have\", \"must've\": \"must have\",\n",
        "                           \"mustn't\": \"must not\", \"mustn't've\": \"must not have\", \"needn't\": \"need not\", \"needn't've\": \"need not have\",\"o'clock\": \"of the clock\",\n",
        "                           \"oughtn't\": \"ought not\", \"oughtn't've\": \"ought not have\", \"shan't\": \"shall not\", \"sha'n't\": \"shall not\", \"shan't've\": \"shall not have\",\n",
        "                           \"she'd\": \"she would\", \"she'd've\": \"she would have\", \"she'll\": \"she will\", \"she'll've\": \"she will have\", \"she's\": \"she is\",\n",
        "                           \"should've\": \"should have\", \"shouldn't\": \"should not\", \"shouldn't've\": \"should not have\", \"so've\": \"so have\",\"so's\": \"so as\",\n",
        "                           \"this's\": \"this is\",\"that'd\": \"that would\", \"that'd've\": \"that would have\", \"that's\": \"that is\", \"there'd\": \"there would\",\n",
        "                           \"there'd've\": \"there would have\", \"there's\": \"there is\", \"here's\": \"here is\",\"they'd\": \"they would\", \"they'd've\": \"they would have\",\n",
        "                           \"they'll\": \"they will\", \"they'll've\": \"they will have\", \"they're\": \"they are\", \"they've\": \"they have\", \"to've\": \"to have\",\n",
        "                           \"wasn't\": \"was not\", \"we'd\": \"we would\", \"we'd've\": \"we would have\", \"we'll\": \"we will\", \"we'll've\": \"we will have\", \"we're\": \"we are\",\n",
        "                           \"we've\": \"we have\", \"weren't\": \"were not\", \"what'll\": \"what will\", \"what'll've\": \"what will have\", \"what're\": \"what are\",\n",
        "                           \"what's\": \"what is\", \"what've\": \"what have\", \"when's\": \"when is\", \"when've\": \"when have\", \"where'd\": \"where did\", \"where's\": \"where is\",\n",
        "                           \"where've\": \"where have\", \"who'll\": \"who will\", \"who'll've\": \"who will have\", \"who's\": \"who is\", \"who've\": \"who have\",\n",
        "                           \"why's\": \"why is\", \"why've\": \"why have\", \"will've\": \"will have\", \"won't\": \"will not\", \"won't've\": \"will not have\",\n",
        "                           \"would've\": \"would have\", \"wouldn't\": \"would not\", \"wouldn't've\": \"would not have\", \"y'all\": \"you all\",\n",
        "                           \"y'all'd\": \"you all would\",\"y'all'd've\": \"you all would have\",\"y'all're\": \"you all are\",\"y'all've\": \"you all have\",\n",
        "                           \"you'd\": \"you would\", \"you'd've\": \"you would have\", \"you'll\": \"you will\", \"you'll've\": \"you will have\",\n",
        "                           \"you're\": \"you are\", \"you've\": \"you have\"}\n",
        "\n",
        "print(\"정규화 사전의 수: \", len(contractions))"
      ],
      "id": "arctic-knight",
      "execution_count": null,
      "outputs": [
        {
          "name": "stdout",
          "output_type": "stream",
          "text": [
            "정규화 사전의 수:  120\n"
          ]
        }
      ]
    },
    {
      "cell_type": "code",
      "metadata": {
        "id": "leading-spring",
        "outputId": "a7d0bcf9-209c-4aea-c5bc-65fcb3d54c82"
      },
      "source": [
        "# 불용어 제거\n",
        "import nltk  # NLTK(Natural Language Toolkit) : 영어 기호, 통계, 자연어 처리를 위한 라이브러리\n",
        "nltk.download('stopwords')\n",
        "\n",
        "print('불용어 개수 :', len(stopwords.words('english')))\n",
        "print(stopwords.words('english'))"
      ],
      "id": "leading-spring",
      "execution_count": null,
      "outputs": [
        {
          "name": "stdout",
          "output_type": "stream",
          "text": [
            "불용어 개수 : 179\n",
            "['i', 'me', 'my', 'myself', 'we', 'our', 'ours', 'ourselves', 'you', \"you're\", \"you've\", \"you'll\", \"you'd\", 'your', 'yours', 'yourself', 'yourselves', 'he', 'him', 'his', 'himself', 'she', \"she's\", 'her', 'hers', 'herself', 'it', \"it's\", 'its', 'itself', 'they', 'them', 'their', 'theirs', 'themselves', 'what', 'which', 'who', 'whom', 'this', 'that', \"that'll\", 'these', 'those', 'am', 'is', 'are', 'was', 'were', 'be', 'been', 'being', 'have', 'has', 'had', 'having', 'do', 'does', 'did', 'doing', 'a', 'an', 'the', 'and', 'but', 'if', 'or', 'because', 'as', 'until', 'while', 'of', 'at', 'by', 'for', 'with', 'about', 'against', 'between', 'into', 'through', 'during', 'before', 'after', 'above', 'below', 'to', 'from', 'up', 'down', 'in', 'out', 'on', 'off', 'over', 'under', 'again', 'further', 'then', 'once', 'here', 'there', 'when', 'where', 'why', 'how', 'all', 'any', 'both', 'each', 'few', 'more', 'most', 'other', 'some', 'such', 'no', 'nor', 'not', 'only', 'own', 'same', 'so', 'than', 'too', 'very', 's', 't', 'can', 'will', 'just', 'don', \"don't\", 'should', \"should've\", 'now', 'd', 'll', 'm', 'o', 're', 've', 'y', 'ain', 'aren', \"aren't\", 'couldn', \"couldn't\", 'didn', \"didn't\", 'doesn', \"doesn't\", 'hadn', \"hadn't\", 'hasn', \"hasn't\", 'haven', \"haven't\", 'isn', \"isn't\", 'ma', 'mightn', \"mightn't\", 'mustn', \"mustn't\", 'needn', \"needn't\", 'shan', \"shan't\", 'shouldn', \"shouldn't\", 'wasn', \"wasn't\", 'weren', \"weren't\", 'won', \"won't\", 'wouldn', \"wouldn't\"]\n"
          ]
        },
        {
          "name": "stderr",
          "output_type": "stream",
          "text": [
            "[nltk_data] Downloading package stopwords to /aiffel/nltk_data...\n",
            "[nltk_data]   Unzipping corpora/stopwords.zip.\n"
          ]
        }
      ]
    },
    {
      "cell_type": "code",
      "metadata": {
        "id": "agricultural-feeding"
      },
      "source": [
        "# 데이터 전처리 진행\n",
        "def preprocess_sentence(sentence, remove_stopwords=True):\n",
        "    sentence = sentence.lower() # 텍스트 소문자로 변환\n",
        "    sentence = BeautifulSoup(sentence, \"lxml\").text # html 태그 제거\n",
        "    sentence = re.sub(r'\\([^)]*\\)', '', sentence) # 괄호로 닫힌 문자열 제거 \n",
        "    sentence = re.sub('\"','', sentence) # quotation mark 제거\n",
        "    sentence = ' '.join([contractions[t] if t in contractions else t for t in sentence.split(\" \")]) # 약어 정규화\n",
        "    sentence = re.sub(r\"'s\\b\",\"\", sentence) # 소유격 제거. Ex) roland's -> roland\n",
        "    sentence = re.sub(\"[^a-zA-Z]\", \" \", sentence) # 숫자, 특수문자는 공백으로 출력\n",
        "    sentence = re.sub('[m]{2,}', 'mm', sentence) # m은 2개 이하로 출력 \n",
        "    \n",
        "    # 불용어 제거 (Text)\n",
        "    if remove_stopwords:\n",
        "        tokens = ' '.join(word for word in sentence.split() if not word in stopwords.words('english') if len(word) > 1)\n",
        "    # 불용어 미제거 (Summary)\n",
        "    else:\n",
        "        tokens = ' '.join(word for word in sentence.split() if len(word) > 1)\n",
        "    return tokens"
      ],
      "id": "agricultural-feeding",
      "execution_count": null,
      "outputs": []
    },
    {
      "cell_type": "code",
      "metadata": {
        "id": "internal-interim",
        "outputId": "3f58aa96-a71d-4b2d-e6be-96eee8ea8cdf"
      },
      "source": [
        "# 전처리 결과 확인\n",
        "temp_text = 'Everything I bought was great, infact I ordered twice and the third ordered was<br />for my mother and father.'\n",
        "temp_summary = 'Great way to start (or finish) the day!!!'\n",
        "\n",
        "print(preprocess_sentence(temp_text))\n",
        "print(preprocess_sentence(temp_summary, False))  # 불용어를 제거"
      ],
      "id": "internal-interim",
      "execution_count": null,
      "outputs": [
        {
          "name": "stdout",
          "output_type": "stream",
          "text": [
            "everything bought great infact ordered twice third ordered wasfor mother father\n",
            "great way to start the day\n"
          ]
        }
      ]
    },
    {
      "cell_type": "code",
      "metadata": {
        "id": "figured-boston",
        "outputId": "e0ba0fac-cb58-4455-c07d-b82c2459730a"
      },
      "source": [
        "# 멀티 프로세싱\n",
        "import multiprocessing as mp   \n",
        "from multiprocessing import Pool\n",
        "import numpy as np\n",
        "import time\n",
        "from functools import partial \n",
        "\n",
        "start = time.time()\n",
        "\n",
        "# num_cores로 데이터를 나눠서 처리\n",
        "def appendTexts(sentences, remove_stopwords):\n",
        "  texts = []\n",
        "  for s in sentences:\n",
        "    texts += preprocess_sentence(s, remove_stopwords),\n",
        "  return texts\n",
        "\n",
        "def preprocess_data(data, remove_stopwords=True):\n",
        "  start_time = time.time()\n",
        "  num_cores = mp.cpu_count()  # 컴퓨터의 코어 수\n",
        "\n",
        "  text_data_split = np.array_split(data, num_cores)  # 병렬처리\n",
        "  pool = Pool(num_cores)\n",
        "\n",
        "  processed_data = np.concatenate(pool.map(partial(appendTexts, remove_stopwords=remove_stopwords), text_data_split))  # 데이터 합치기\n",
        "  pool.close()\n",
        "  pool.join()\n",
        "  print(time.time() - start_time, \" seconds\")\n",
        "  return processed_data\n",
        "\n",
        "clean_text = preprocess_data(data['text'])  \n",
        "print(clean_text)\n",
        "\n",
        "clean_summary = preprocess_data(data['headlines'], remove_stopwords=False) \n",
        "print(clean_summary)"
      ],
      "id": "figured-boston",
      "execution_count": null,
      "outputs": [
        {
          "name": "stdout",
          "output_type": "stream",
          "text": [
            "440.20155906677246  seconds\n",
            "['saurav kant alumnus upgrad iiit pg program machine learning artificial intelligence sr systems engineer infosys almost years work experience program upgrad degree career support helped transition data scientist tech mahindra salary hike upgrad online power learning powered lakh careers'\n",
            " 'kunal shah credit card bill payment platform cred gave users chance win free food swiggy one year pranav kaushik delhi techie bagged reward spending cred coins users get one cred coin per rupee bill paid used avail rewards brands like ixigo bookmyshow ubereats cult fit'\n",
            " 'new zealand defeated india wickets fourth odi hamilton thursday win first match five match odi series india lost international match rohit sharma captaincy consecutive victories dating back march match witnessed india getting seventh lowest total odi cricket history'\n",
            " ...\n",
            " 'according reports new version science fiction film matrix development michael jordan reportedly play lead role film screenwriter zak penn talks write script film reports added actor keanu reeves starred original film followed two sequels'\n",
            " 'new music video shows rapper snoop dogg aiming toy gun clown character parodying us president donald trump video also shows tv airing news conference headline ronald klump wants deport doggs airing live clown house video remixed version song lavender'\n",
            " 'madhesi morcha alliance seven political parties withdrawn support pm pushpa kamal dahal led nepal government failed meet seven day ultimatum fulfil demands including endorsement revised constitution amendment bill morcha seats parliament despite withdrawal support immediate threat government']\n",
            "13.88786792755127  seconds\n",
            "['upgrad learner switches to career in ml al with salary hike'\n",
            " 'delhi techie wins free food from swiggy for one year on cred'\n",
            " 'new zealand end rohit sharma led india match winning streak' ...\n",
            " 'the matrix film to get reboot reports'\n",
            " 'snoop dogg aims gun at clown dressed as trump in new video'\n",
            " 'madhesi morcha withdraws support to nepalese government']\n"
          ]
        }
      ]
    },
    {
      "cell_type": "code",
      "metadata": {
        "id": "nonprofit-shopping"
      },
      "source": [
        "data['text'] = clean_text\n",
        "data['headlines'] = clean_summary\n",
        "\n",
        "data.replace('', np.nan, inplace=True) # 빈 값을 Null 값으로 변환"
      ],
      "id": "nonprofit-shopping",
      "execution_count": null,
      "outputs": []
    },
    {
      "cell_type": "code",
      "metadata": {
        "id": "fundamental-springfield",
        "outputId": "77713be8-e845-4579-e4aa-6ac577379fe1"
      },
      "source": [
        "data.dropna(axis=0, inplace=True)\n",
        "print('전체 샘플수 :', (len(data)))"
      ],
      "id": "fundamental-springfield",
      "execution_count": null,
      "outputs": [
        {
          "name": "stdout",
          "output_type": "stream",
          "text": [
            "전체 샘플수 : 98360\n"
          ]
        }
      ]
    },
    {
      "cell_type": "code",
      "metadata": {
        "id": "occupational-onion",
        "outputId": "7db00480-0a0b-46a6-d744-09fd75fa132a"
      },
      "source": [
        "data.dropna(axis=0, inplace=True)\n",
        "print('전체 샘플수 :', (len(data)))"
      ],
      "id": "occupational-onion",
      "execution_count": null,
      "outputs": [
        {
          "name": "stdout",
          "output_type": "stream",
          "text": [
            "전체 샘플수 : 98360\n"
          ]
        }
      ]
    },
    {
      "cell_type": "code",
      "metadata": {
        "id": "beautiful-provincial"
      },
      "source": [
        "# 데이터 나누기\n",
        "text_max_len = 50\n",
        "summary_max_len = 8"
      ],
      "id": "beautiful-provincial",
      "execution_count": null,
      "outputs": []
    },
    {
      "cell_type": "code",
      "metadata": {
        "id": "western-metropolitan"
      },
      "source": [
        "def below_threshold_len(max_len, nested_list):\n",
        "  cnt = 0\n",
        "  for s in nested_list:\n",
        "    if(len(s.split()) <= max_len):\n",
        "        cnt = cnt + 1\n",
        "  print('전체 샘플 중 길이가 %s 이하인 샘플의 비율: %s'%(max_len, (cnt / len(nested_list))))"
      ],
      "id": "western-metropolitan",
      "execution_count": null,
      "outputs": []
    },
    {
      "cell_type": "code",
      "metadata": {
        "id": "sticky-cartridge",
        "outputId": "057d6b67-664a-4d50-d19e-c939e3e4c837"
      },
      "source": [
        "below_threshold_len(text_max_len, data['text'])\n",
        "below_threshold_len(summary_max_len,  data['headlines'])"
      ],
      "id": "sticky-cartridge",
      "execution_count": null,
      "outputs": [
        {
          "name": "stdout",
          "output_type": "stream",
          "text": [
            "전체 샘플 중 길이가 50 이하인 샘플의 비율: 0.9998576657177715\n",
            "전체 샘플 중 길이가 8 이하인 샘플의 비율: 0.2755693371289142\n"
          ]
        }
      ]
    },
    {
      "cell_type": "code",
      "metadata": {
        "id": "hydraulic-costume",
        "outputId": "ffcbb7cf-adf3-456c-c826-fa41a772af0c"
      },
      "source": [
        "data = data[data['text'].apply(lambda x: len(x.split()) <= text_max_len)]\n",
        "data = data[data['headlines'].apply(lambda x: len(x.split()) <= summary_max_len)]\n",
        "print('전체 샘플수 :', (len(data)))"
      ],
      "id": "hydraulic-costume",
      "execution_count": null,
      "outputs": [
        {
          "name": "stdout",
          "output_type": "stream",
          "text": [
            "전체 샘플수 : 27105\n"
          ]
        }
      ]
    },
    {
      "cell_type": "code",
      "metadata": {
        "id": "different-retrieval",
        "outputId": "368a8555-6a88-45fc-8c8e-92165fcfc4bc"
      },
      "source": [
        "data['decoder_input'] = data['headlines'].apply(lambda x : 'sostoken '+ x)  # 시작 토큰과 종료 토큰 추가\n",
        "data['decoder_target'] = data['headlines'].apply(lambda x : x + ' eostoken')\n",
        "data.head()"
      ],
      "id": "different-retrieval",
      "execution_count": null,
      "outputs": [
        {
          "data": {
            "text/html": [
              "<div>\n",
              "<style scoped>\n",
              "    .dataframe tbody tr th:only-of-type {\n",
              "        vertical-align: middle;\n",
              "    }\n",
              "\n",
              "    .dataframe tbody tr th {\n",
              "        vertical-align: top;\n",
              "    }\n",
              "\n",
              "    .dataframe thead th {\n",
              "        text-align: right;\n",
              "    }\n",
              "</style>\n",
              "<table border=\"1\" class=\"dataframe\">\n",
              "  <thead>\n",
              "    <tr style=\"text-align: right;\">\n",
              "      <th></th>\n",
              "      <th>headlines</th>\n",
              "      <th>text</th>\n",
              "      <th>decoder_input</th>\n",
              "      <th>decoder_target</th>\n",
              "    </tr>\n",
              "  </thead>\n",
              "  <tbody>\n",
              "    <tr>\n",
              "      <th>19</th>\n",
              "      <td>odisha cm patnaik controls mining mafia union ...</td>\n",
              "      <td>union minister dharmendra pradhan wednesday cl...</td>\n",
              "      <td>sostoken odisha cm patnaik controls mining maf...</td>\n",
              "      <td>odisha cm patnaik controls mining mafia union ...</td>\n",
              "    </tr>\n",
              "    <tr>\n",
              "      <th>21</th>\n",
              "      <td>isro unveils bengaluru centre for manned space...</td>\n",
              "      <td>indian space research organisation wednesday u...</td>\n",
              "      <td>sostoken isro unveils bengaluru centre for man...</td>\n",
              "      <td>isro unveils bengaluru centre for manned space...</td>\n",
              "    </tr>\n",
              "    <tr>\n",
              "      <th>22</th>\n",
              "      <td>killed injured in saudi arabia floods</td>\n",
              "      <td>least people killed others injured saudi arabi...</td>\n",
              "      <td>sostoken killed injured in saudi arabia floods</td>\n",
              "      <td>killed injured in saudi arabia floods eostoken</td>\n",
              "    </tr>\n",
              "    <tr>\n",
              "      <th>29</th>\n",
              "      <td>seat cushions from missing plane carrying foot...</td>\n",
              "      <td>investigators searching lost plane carrying ar...</td>\n",
              "      <td>sostoken seat cushions from missing plane carr...</td>\n",
              "      <td>seat cushions from missing plane carrying foot...</td>\n",
              "    </tr>\n",
              "    <tr>\n",
              "      <th>36</th>\n",
              "      <td>agustawestland scam accused rajiv saxena extra...</td>\n",
              "      <td>agustawestland chopper scam co accused rajiv s...</td>\n",
              "      <td>sostoken agustawestland scam accused rajiv sax...</td>\n",
              "      <td>agustawestland scam accused rajiv saxena extra...</td>\n",
              "    </tr>\n",
              "  </tbody>\n",
              "</table>\n",
              "</div>"
            ],
            "text/plain": [
              "                                            headlines  \\\n",
              "19  odisha cm patnaik controls mining mafia union ...   \n",
              "21  isro unveils bengaluru centre for manned space...   \n",
              "22              killed injured in saudi arabia floods   \n",
              "29  seat cushions from missing plane carrying foot...   \n",
              "36  agustawestland scam accused rajiv saxena extra...   \n",
              "\n",
              "                                                 text  \\\n",
              "19  union minister dharmendra pradhan wednesday cl...   \n",
              "21  indian space research organisation wednesday u...   \n",
              "22  least people killed others injured saudi arabi...   \n",
              "29  investigators searching lost plane carrying ar...   \n",
              "36  agustawestland chopper scam co accused rajiv s...   \n",
              "\n",
              "                                        decoder_input  \\\n",
              "19  sostoken odisha cm patnaik controls mining maf...   \n",
              "21  sostoken isro unveils bengaluru centre for man...   \n",
              "22     sostoken killed injured in saudi arabia floods   \n",
              "29  sostoken seat cushions from missing plane carr...   \n",
              "36  sostoken agustawestland scam accused rajiv sax...   \n",
              "\n",
              "                                       decoder_target  \n",
              "19  odisha cm patnaik controls mining mafia union ...  \n",
              "21  isro unveils bengaluru centre for manned space...  \n",
              "22     killed injured in saudi arabia floods eostoken  \n",
              "29  seat cushions from missing plane carrying foot...  \n",
              "36  agustawestland scam accused rajiv saxena extra...  "
            ]
          },
          "execution_count": 23,
          "metadata": {},
          "output_type": "execute_result"
        }
      ]
    },
    {
      "cell_type": "code",
      "metadata": {
        "id": "joint-consistency"
      },
      "source": [
        "encoder_input = np.array(data['text']) # 인코더의 입력\n",
        "decoder_input = np.array(data['decoder_input']) # 디코더의 입력\n",
        "decoder_target = np.array(data['decoder_target']) # 디코더의 레이블"
      ],
      "id": "joint-consistency",
      "execution_count": null,
      "outputs": []
    },
    {
      "cell_type": "code",
      "metadata": {
        "id": "processed-ordinance",
        "outputId": "55f6e77e-2e04-48c7-dd9b-a1147011ca25"
      },
      "source": [
        "indices = np.arange(encoder_input.shape[0])\n",
        "np.random.shuffle(indices)\n",
        "print(indices)"
      ],
      "id": "processed-ordinance",
      "execution_count": null,
      "outputs": [
        {
          "name": "stdout",
          "output_type": "stream",
          "text": [
            "[20884  8619  7109 ... 15297  4811 23348]\n"
          ]
        }
      ]
    },
    {
      "cell_type": "code",
      "metadata": {
        "id": "optional-release"
      },
      "source": [
        "encoder_input = encoder_input[indices]\n",
        "decoder_input = decoder_input[indices]\n",
        "decoder_target = decoder_target[indices]"
      ],
      "id": "optional-release",
      "execution_count": null,
      "outputs": []
    },
    {
      "cell_type": "code",
      "metadata": {
        "id": "colored-squad",
        "outputId": "330f6c74-056a-47ec-c197-02c79539d3f9"
      },
      "source": [
        "n_of_val = int(len(encoder_input)*0.2)\n",
        "print('테스트 데이터의 수 :', n_of_val)"
      ],
      "id": "colored-squad",
      "execution_count": null,
      "outputs": [
        {
          "name": "stdout",
          "output_type": "stream",
          "text": [
            "테스트 데이터의 수 : 5421\n"
          ]
        }
      ]
    },
    {
      "cell_type": "code",
      "metadata": {
        "id": "removed-lightning",
        "outputId": "b12160d8-1903-4963-c808-b7894105f29d"
      },
      "source": [
        "encoder_input_train = encoder_input[:-n_of_val]\n",
        "decoder_input_train = decoder_input[:-n_of_val]\n",
        "decoder_target_train = decoder_target[:-n_of_val]\n",
        "\n",
        "encoder_input_test = encoder_input[-n_of_val:]\n",
        "decoder_input_test = decoder_input[-n_of_val:]\n",
        "decoder_target_test = decoder_target[-n_of_val:]\n",
        "\n",
        "print('훈련 데이터의 개수 :', len(encoder_input_train))\n",
        "print('훈련 레이블의 개수 :', len(decoder_input_train))\n",
        "print('테스트 데이터의 개수 :', len(encoder_input_test))\n",
        "print('테스트 레이블의 개수 :', len(decoder_input_test))"
      ],
      "id": "removed-lightning",
      "execution_count": null,
      "outputs": [
        {
          "name": "stdout",
          "output_type": "stream",
          "text": [
            "훈련 데이터의 개수 : 21684\n",
            "훈련 레이블의 개수 : 21684\n",
            "테스트 데이터의 개수 : 5421\n",
            "테스트 레이블의 개수 : 5421\n"
          ]
        }
      ]
    },
    {
      "cell_type": "code",
      "metadata": {
        "id": "ethical-psychiatry"
      },
      "source": [
        "# 정수 인코딩\n",
        "src_tokenizer = Tokenizer() # 토크나이저 정의\n",
        "src_tokenizer.fit_on_texts(encoder_input_train) # 입력된 데이터로부터 단어 집합 생성"
      ],
      "id": "ethical-psychiatry",
      "execution_count": null,
      "outputs": []
    },
    {
      "cell_type": "code",
      "metadata": {
        "id": "spoken-elimination",
        "outputId": "87fad45d-3135-42af-a6be-bf95e0d59dfb"
      },
      "source": [
        "threshold = 7\n",
        "total_cnt = len(src_tokenizer.word_index) # 단어의 수\n",
        "rare_cnt = 0 # 등장 빈도수가 threshold보다 작은 단어의 개수를 카운트\n",
        "total_freq = 0 # 훈련 데이터의 전체 단어 빈도수 총 합\n",
        "rare_freq = 0 # 등장 빈도수가 threshold보다 작은 단어의 등장 빈도수의 총 합\n",
        "\n",
        "# 단어와 빈도수 = key와 value\n",
        "for key, value in src_tokenizer.word_counts.items():\n",
        "    total_freq = total_freq + value\n",
        "\n",
        "    # 단어의 등장 빈도수가 threshold보다 작을 때\n",
        "    if(value < threshold):\n",
        "        rare_cnt = rare_cnt + 1\n",
        "        rare_freq = rare_freq + value\n",
        "\n",
        "print('단어 집합(vocabulary)의 크기 :', total_cnt)\n",
        "print('등장 빈도가 %s번 이하인 희귀 단어의 수: %s'%(threshold - 1, rare_cnt))\n",
        "print('단어 집합에서 희귀 단어를 제외시킬 경우의 단어 집합의 크기 %s'%(total_cnt - rare_cnt))\n",
        "print(\"단어 집합에서 희귀 단어의 비율:\", (rare_cnt / total_cnt)*100)\n",
        "print(\"전체 등장 빈도에서 희귀 단어 등장 빈도 비율:\", (rare_freq / total_freq)*100)"
      ],
      "id": "spoken-elimination",
      "execution_count": null,
      "outputs": [
        {
          "name": "stdout",
          "output_type": "stream",
          "text": [
            "단어 집합(vocabulary)의 크기 : 42495\n",
            "등장 빈도가 6번 이하인 희귀 단어의 수: 30770\n",
            "단어 집합에서 희귀 단어를 제외시킬 경우의 단어 집합의 크기 11725\n",
            "단어 집합에서 희귀 단어의 비율: 72.40851864925285\n",
            "전체 등장 빈도에서 희귀 단어 등장 빈도 비율: 8.27325645596378\n"
          ]
        }
      ]
    },
    {
      "cell_type": "code",
      "metadata": {
        "id": "italian-instrumentation"
      },
      "source": [
        "src_vocab = 8000\n",
        "src_tokenizer = Tokenizer(num_words=src_vocab) # 단어 집합의 크기를 8,000으로 제한\n",
        "src_tokenizer.fit_on_texts(encoder_input_train) # 단어 집합 재생성."
      ],
      "id": "italian-instrumentation",
      "execution_count": null,
      "outputs": []
    },
    {
      "cell_type": "code",
      "metadata": {
        "id": "hawaiian-retailer",
        "outputId": "b1ca0d20-c1b3-4af2-fe09-24626066f703"
      },
      "source": [
        "# 텍스트 시퀀스를 정수 시퀀스로 변환\n",
        "encoder_input_train = src_tokenizer.texts_to_sequences(encoder_input_train) \n",
        "encoder_input_test = src_tokenizer.texts_to_sequences(encoder_input_test)\n",
        "\n",
        "# 잘 진행되었는지 샘플 출력\n",
        "print(encoder_input_train[:3])"
      ],
      "id": "hawaiian-retailer",
      "execution_count": null,
      "outputs": [
        {
          "name": "stdout",
          "output_type": "stream",
          "text": [
            "[[145, 4166, 3445, 193, 2831, 620, 48, 7424, 132, 317, 6231, 145, 42, 415, 6501, 3679, 21, 2937, 43, 909, 193, 49, 3760, 304, 403], [222, 101, 6772, 357, 1375, 533, 2508, 7425, 2326, 6772, 52, 344, 222, 994, 70, 5993, 1134, 599, 1567, 3955, 706, 807, 230, 103, 3, 1937, 218, 534, 7426], [1568, 1164, 750, 4793, 2979, 1, 502, 3680, 252, 3194, 502, 7427, 3861, 5574, 6773, 127, 5, 6, 502, 342, 1741, 38, 206]]\n"
          ]
        }
      ]
    },
    {
      "cell_type": "code",
      "metadata": {
        "id": "electric-camera"
      },
      "source": [
        "tar_tokenizer = Tokenizer()\n",
        "tar_tokenizer.fit_on_texts(decoder_input_train)"
      ],
      "id": "electric-camera",
      "execution_count": null,
      "outputs": []
    },
    {
      "cell_type": "code",
      "metadata": {
        "id": "placed-merchant",
        "outputId": "5384093a-9a46-484f-80ca-24211676c613"
      },
      "source": [
        "threshold = 6\n",
        "total_cnt = len(tar_tokenizer.word_index) # 단어의 수\n",
        "rare_cnt = 0 # 등장 빈도수가 threshold보다 작은 단어의 개수를 카운트\n",
        "total_freq = 0 # 훈련 데이터의 전체 단어 빈도수 총 합\n",
        "rare_freq = 0 # 등장 빈도수가 threshold보다 작은 단어의 등장 빈도수의 총 합\n",
        "\n",
        "# 단어와 빈도수 = key와 value\n",
        "for key, value in tar_tokenizer.word_counts.items():\n",
        "    total_freq = total_freq + value\n",
        "\n",
        "    # 단어의 등장 빈도수가 threshold보다 작으면\n",
        "    if(value < threshold):\n",
        "        rare_cnt = rare_cnt + 1\n",
        "        rare_freq = rare_freq + value\n",
        "\n",
        "print('단어 집합(vocabulary)의 크기 :', total_cnt)\n",
        "print('등장 빈도가 %s번 이하인 희귀 단어의 수: %s'%(threshold - 1, rare_cnt))\n",
        "print('단어 집합에서 희귀 단어를 제외시킬 경우의 단어 집합의 크기 %s'%(total_cnt - rare_cnt))\n",
        "print(\"단어 집합에서 희귀 단어의 비율:\", (rare_cnt / total_cnt)*100)\n",
        "print(\"전체 등장 빈도에서 희귀 단어 등장 빈도 비율:\", (rare_freq / total_freq)*100)"
      ],
      "id": "placed-merchant",
      "execution_count": null,
      "outputs": [
        {
          "name": "stdout",
          "output_type": "stream",
          "text": [
            "단어 집합(vocabulary)의 크기 : 18880\n",
            "등장 빈도가 5번 이하인 희귀 단어의 수: 14240\n",
            "단어 집합에서 희귀 단어를 제외시킬 경우의 단어 집합의 크기 4640\n",
            "단어 집합에서 희귀 단어의 비율: 75.42372881355932\n",
            "전체 등장 빈도에서 희귀 단어 등장 빈도 비율: 14.1073028373398\n"
          ]
        }
      ]
    },
    {
      "cell_type": "code",
      "metadata": {
        "id": "veterinary-parent",
        "outputId": "66fe19d5-036e-49ee-f99b-20b47ce4d00c"
      },
      "source": [
        "tar_vocab = 2000\n",
        "tar_tokenizer = Tokenizer(num_words=tar_vocab) \n",
        "tar_tokenizer.fit_on_texts(decoder_input_train)\n",
        "tar_tokenizer.fit_on_texts(decoder_target_train)\n",
        "\n",
        "# 텍스트 시퀀스를 정수 시퀀스로 변환\n",
        "decoder_input_train = tar_tokenizer.texts_to_sequences(decoder_input_train) \n",
        "decoder_target_train = tar_tokenizer.texts_to_sequences(decoder_target_train)\n",
        "decoder_input_test = tar_tokenizer.texts_to_sequences(decoder_input_test)\n",
        "decoder_target_test = tar_tokenizer.texts_to_sequences(decoder_target_test)\n",
        "\n",
        "print('input')\n",
        "print('input ',decoder_input_train[:5])\n",
        "print('target')\n",
        "print('decoder ',decoder_target_train[:5])"
      ],
      "id": "veterinary-parent",
      "execution_count": null,
      "outputs": [
        {
          "name": "stdout",
          "output_type": "stream",
          "text": [
            "input\n",
            "input  [[1, 100, 155, 733, 10], [1, 84, 44, 52, 14], [1, 189, 6, 308, 1397, 885], [1, 329, 1555, 764, 1826, 734, 135, 1729], [1, 1641, 4, 74, 1556, 22, 150, 65]]\n",
            "target\n",
            "decoder  [[100, 155, 733, 10, 2], [84, 44, 52, 14, 2], [189, 6, 308, 1397, 885, 2], [329, 1555, 764, 1826, 734, 135, 1729, 2], [1641, 4, 74, 1556, 22, 150, 65, 2]]\n"
          ]
        }
      ]
    },
    {
      "cell_type": "code",
      "metadata": {
        "id": "beneficial-cross",
        "outputId": "ddcc9bec-74b1-4426-cb4c-f6a40226aa77"
      },
      "source": [
        "drop_train = [index for index, sentence in enumerate(decoder_input_train) if len(sentence) == 1]\n",
        "drop_test = [index for index, sentence in enumerate(decoder_input_test) if len(sentence) == 1]\n",
        "\n",
        "print('삭제할 훈련 데이터의 개수 :', len(drop_train))\n",
        "print('삭제할 테스트 데이터의 개수 :', len(drop_test))\n",
        "\n",
        "encoder_input_train = np.delete(encoder_input_train, drop_train, axis=0)\n",
        "decoder_input_train = np.delete(decoder_input_train, drop_train, axis=0)\n",
        "decoder_target_train = np.delete(decoder_target_train, drop_train, axis=0)\n",
        "\n",
        "encoder_input_test = np.delete(encoder_input_test, drop_test, axis=0)\n",
        "decoder_input_test = np.delete(decoder_input_test, drop_test, axis=0)\n",
        "decoder_target_test = np.delete(decoder_target_test, drop_test, axis=0)\n",
        "\n",
        "print('훈련 데이터의 개수 :', len(encoder_input_train))\n",
        "print('훈련 레이블의 개수 :', len(decoder_input_train))\n",
        "print('테스트 데이터의 개수 :', len(encoder_input_test))\n",
        "print('테스트 레이블의 개수 :', len(decoder_input_test))"
      ],
      "id": "beneficial-cross",
      "execution_count": null,
      "outputs": [
        {
          "name": "stdout",
          "output_type": "stream",
          "text": [
            "삭제할 훈련 데이터의 개수 : 6\n",
            "삭제할 테스트 데이터의 개수 : 4\n",
            "훈련 데이터의 개수 : 21678\n",
            "훈련 레이블의 개수 : 21678\n",
            "테스트 데이터의 개수 : 5417\n",
            "테스트 레이블의 개수 : 5417\n"
          ]
        },
        {
          "name": "stderr",
          "output_type": "stream",
          "text": [
            "/opt/conda/lib/python3.7/site-packages/numpy/core/_asarray.py:83: VisibleDeprecationWarning: Creating an ndarray from ragged nested sequences (which is a list-or-tuple of lists-or-tuples-or ndarrays with different lengths or shapes) is deprecated. If you meant to do this, you must specify 'dtype=object' when creating the ndarray\n",
            "  return array(a, dtype, copy=False, order=order)\n"
          ]
        }
      ]
    },
    {
      "cell_type": "code",
      "metadata": {
        "id": "finished-alaska"
      },
      "source": [
        "encoder_input_train = pad_sequences(encoder_input_train, maxlen=text_max_len, padding='post')\n",
        "encoder_input_test = pad_sequences(encoder_input_test, maxlen=text_max_len, padding='post')\n",
        "decoder_input_train = pad_sequences(decoder_input_train, maxlen=summary_max_len, padding='post')\n",
        "decoder_target_train = pad_sequences(decoder_target_train, maxlen=summary_max_len, padding='post')\n",
        "decoder_input_test = pad_sequences(decoder_input_test, maxlen=summary_max_len, padding='post')\n",
        "decoder_target_test = pad_sequences(decoder_target_test, maxlen=summary_max_len, padding='post')"
      ],
      "id": "finished-alaska",
      "execution_count": null,
      "outputs": []
    },
    {
      "cell_type": "code",
      "metadata": {
        "id": "secondary-artwork"
      },
      "source": [
        ""
      ],
      "id": "secondary-artwork",
      "execution_count": null,
      "outputs": []
    },
    {
      "cell_type": "markdown",
      "metadata": {
        "id": "prerequisite-location"
      },
      "source": [
        "## Step 3. 어텐션 메커니즘 사용하기 (추상적 요약)"
      ],
      "id": "prerequisite-location"
    },
    {
      "cell_type": "code",
      "metadata": {
        "id": "administrative-purple"
      },
      "source": [
        "# 모델 설계"
      ],
      "id": "administrative-purple",
      "execution_count": null,
      "outputs": []
    },
    {
      "cell_type": "code",
      "metadata": {
        "id": "frozen-figure"
      },
      "source": [
        "from tensorflow.keras.layers import Input, LSTM, Embedding, Dense, Concatenate\n",
        "from tensorflow.keras.models import Model\n",
        "from tensorflow.keras.callbacks import EarlyStopping, ModelCheckpoint\n",
        "\n",
        "\n",
        "# 인코더 설계 시작\n",
        "embedding_dim = 128\n",
        "hidden_size = 256\n",
        "\n",
        "# 인코더\n",
        "encoder_inputs = Input(shape=(text_max_len,))\n",
        "\n",
        "# 인코더의 임베딩 층\n",
        "enc_emb = Embedding(src_vocab, embedding_dim)(encoder_inputs)\n",
        "\n",
        "# 인코더의 LSTM 1\n",
        "encoder_lstm1 = LSTM(hidden_size, return_sequences=True, return_state=True ,dropout = 0.4)\n",
        "encoder_output1, state_h1, state_c1 = encoder_lstm1(enc_emb)\n",
        "\n",
        "# 인코더의 LSTM 2\n",
        "encoder_lstm2 = LSTM(hidden_size, return_sequences=True, return_state=True, dropout=0.4)\n",
        "encoder_output2, state_h2, state_c2 = encoder_lstm2(encoder_output1)\n",
        "\n",
        "# 인코더의 LSTM 3\n",
        "encoder_lstm3 = LSTM(hidden_size, return_state=True, return_sequences=True, dropout=0.4)\n",
        "encoder_outputs, state_h, state_c= encoder_lstm3(encoder_output2)"
      ],
      "id": "frozen-figure",
      "execution_count": null,
      "outputs": []
    },
    {
      "cell_type": "code",
      "metadata": {
        "id": "preliminary-photography"
      },
      "source": [
        "# 디코더 설계\n",
        "decoder_inputs = Input(shape=(None,))\n",
        "\n",
        "# 디코더의 임베딩 층\n",
        "dec_emb_layer = Embedding(tar_vocab, embedding_dim)\n",
        "dec_emb = dec_emb_layer(decoder_inputs)\n",
        "\n",
        "# 디코더의 LSTM\n",
        "decoder_lstm = LSTM(hidden_size, return_sequences=True, return_state=True, dropout=0.4)\n",
        "decoder_outputs, _, _ = decoder_lstm(dec_emb, initial_state=[state_h, state_c])"
      ],
      "id": "preliminary-photography",
      "execution_count": null,
      "outputs": []
    },
    {
      "cell_type": "code",
      "metadata": {
        "id": "above-exhibition"
      },
      "source": [
        "urllib.request.urlretrieve(\"https://raw.githubusercontent.com/thushv89/attention_keras/master/src/layers/attention.py\", filename=\"attention.py\")\n",
        "from attention import AttentionLayer"
      ],
      "id": "above-exhibition",
      "execution_count": null,
      "outputs": []
    },
    {
      "cell_type": "code",
      "metadata": {
        "id": "first-bachelor",
        "outputId": "46b5dff1-22a6-46bd-d0f5-5662affdecf6"
      },
      "source": [
        "# 어텐션 층(어텐션 함수)\n",
        "attn_layer = AttentionLayer(name='attention_layer')\n",
        "# 인코더와 디코더의 모든 time step의 hidden state를 어텐션 층에 전달하고 결과를 리턴\n",
        "attn_out, attn_states = attn_layer([encoder_outputs, decoder_outputs])\n",
        "\n",
        "# 어텐션의 결과와 디코더의 hidden state들을 연결\n",
        "decoder_concat_input = Concatenate(axis=-1, name='concat_layer')([decoder_outputs, attn_out])\n",
        "\n",
        "# 디코더의 출력층\n",
        "decoder_softmax_layer = Dense(tar_vocab, activation='softmax')\n",
        "decoder_softmax_outputs = decoder_softmax_layer(decoder_concat_input)\n",
        "\n",
        "# 모델 정의\n",
        "model = Model([encoder_inputs, decoder_inputs], decoder_softmax_outputs)\n",
        "model.summary()"
      ],
      "id": "first-bachelor",
      "execution_count": null,
      "outputs": [
        {
          "name": "stdout",
          "output_type": "stream",
          "text": [
            "Model: \"model\"\n",
            "__________________________________________________________________________________________________\n",
            "Layer (type)                    Output Shape         Param #     Connected to                     \n",
            "==================================================================================================\n",
            "input_1 (InputLayer)            [(None, 50)]         0                                            \n",
            "__________________________________________________________________________________________________\n",
            "embedding (Embedding)           (None, 50, 128)      1024000     input_1[0][0]                    \n",
            "__________________________________________________________________________________________________\n",
            "lstm (LSTM)                     [(None, 50, 256), (N 394240      embedding[0][0]                  \n",
            "__________________________________________________________________________________________________\n",
            "input_2 (InputLayer)            [(None, None)]       0                                            \n",
            "__________________________________________________________________________________________________\n",
            "lstm_1 (LSTM)                   [(None, 50, 256), (N 525312      lstm[0][0]                       \n",
            "__________________________________________________________________________________________________\n",
            "embedding_1 (Embedding)         (None, None, 128)    256000      input_2[0][0]                    \n",
            "__________________________________________________________________________________________________\n",
            "lstm_2 (LSTM)                   [(None, 50, 256), (N 525312      lstm_1[0][0]                     \n",
            "__________________________________________________________________________________________________\n",
            "lstm_3 (LSTM)                   [(None, None, 256),  394240      embedding_1[0][0]                \n",
            "                                                                 lstm_2[0][1]                     \n",
            "                                                                 lstm_2[0][2]                     \n",
            "__________________________________________________________________________________________________\n",
            "attention_layer (AttentionLayer ((None, None, 256),  131328      lstm_2[0][0]                     \n",
            "                                                                 lstm_3[0][0]                     \n",
            "__________________________________________________________________________________________________\n",
            "concat_layer (Concatenate)      (None, None, 512)    0           lstm_3[0][0]                     \n",
            "                                                                 attention_layer[0][0]            \n",
            "__________________________________________________________________________________________________\n",
            "dense (Dense)                   (None, None, 2000)   1026000     concat_layer[0][0]               \n",
            "==================================================================================================\n",
            "Total params: 4,276,432\n",
            "Trainable params: 4,276,432\n",
            "Non-trainable params: 0\n",
            "__________________________________________________________________________________________________\n"
          ]
        }
      ]
    },
    {
      "cell_type": "code",
      "metadata": {
        "id": "ordered-france"
      },
      "source": [
        "# 모델 훈련하기"
      ],
      "id": "ordered-france",
      "execution_count": null,
      "outputs": []
    },
    {
      "cell_type": "code",
      "metadata": {
        "id": "corporate-shadow",
        "outputId": "6c44ff92-6a62-44a8-cd0e-9d017abd0bbe"
      },
      "source": [
        "model.compile(optimizer='rmsprop', loss='sparse_categorical_crossentropy')\n",
        "es = EarlyStopping(monitor='val_loss', patience=2, verbose=1)\n",
        "history = model.fit(x=[encoder_input_train, decoder_input_train], y=decoder_target_train, \\\n",
        "          validation_data=([encoder_input_test, decoder_input_test], decoder_target_test), \\\n",
        "          batch_size=256, callbacks=[es], epochs=50)"
      ],
      "id": "corporate-shadow",
      "execution_count": null,
      "outputs": [
        {
          "name": "stdout",
          "output_type": "stream",
          "text": [
            "Epoch 1/50\n",
            "85/85 [==============================] - 28s 219ms/step - loss: 5.3435 - val_loss: 4.4955\n",
            "Epoch 2/50\n",
            "85/85 [==============================] - 17s 196ms/step - loss: 4.5444 - val_loss: 4.3191\n",
            "Epoch 3/50\n",
            "85/85 [==============================] - 17s 196ms/step - loss: 4.3472 - val_loss: 4.1986\n",
            "Epoch 4/50\n",
            "85/85 [==============================] - 17s 196ms/step - loss: 4.2149 - val_loss: 4.1025\n",
            "Epoch 5/50\n",
            "85/85 [==============================] - 17s 196ms/step - loss: 4.0865 - val_loss: 3.9662\n",
            "Epoch 6/50\n",
            "85/85 [==============================] - 17s 197ms/step - loss: 3.9304 - val_loss: 3.8381\n",
            "Epoch 7/50\n",
            "85/85 [==============================] - 17s 197ms/step - loss: 3.7693 - val_loss: 3.7404\n",
            "Epoch 8/50\n",
            "85/85 [==============================] - 17s 196ms/step - loss: 3.6395 - val_loss: 3.6572\n",
            "Epoch 9/50\n",
            "85/85 [==============================] - 17s 196ms/step - loss: 3.5109 - val_loss: 3.5938\n",
            "Epoch 10/50\n",
            "85/85 [==============================] - 17s 196ms/step - loss: 3.4066 - val_loss: 3.5375\n",
            "Epoch 11/50\n",
            "85/85 [==============================] - 17s 196ms/step - loss: 3.3033 - val_loss: 3.4905\n",
            "Epoch 12/50\n",
            "85/85 [==============================] - 17s 196ms/step - loss: 3.2126 - val_loss: 3.4442\n",
            "Epoch 13/50\n",
            "85/85 [==============================] - 17s 196ms/step - loss: 3.1299 - val_loss: 3.4270\n",
            "Epoch 14/50\n",
            "85/85 [==============================] - 17s 196ms/step - loss: 3.0485 - val_loss: 3.3967\n",
            "Epoch 15/50\n",
            "85/85 [==============================] - 17s 196ms/step - loss: 2.9731 - val_loss: 3.3755\n",
            "Epoch 16/50\n",
            "85/85 [==============================] - 17s 196ms/step - loss: 2.9061 - val_loss: 3.3574\n",
            "Epoch 17/50\n",
            "85/85 [==============================] - 17s 196ms/step - loss: 2.8343 - val_loss: 3.3430\n",
            "Epoch 18/50\n",
            "85/85 [==============================] - 17s 196ms/step - loss: 2.7623 - val_loss: 3.3380\n",
            "Epoch 19/50\n",
            "85/85 [==============================] - 17s 196ms/step - loss: 2.6912 - val_loss: 3.3298\n",
            "Epoch 20/50\n",
            "85/85 [==============================] - 17s 196ms/step - loss: 2.6368 - val_loss: 3.3313\n",
            "Epoch 21/50\n",
            "85/85 [==============================] - 17s 196ms/step - loss: 2.5915 - val_loss: 3.3244\n",
            "Epoch 22/50\n",
            "85/85 [==============================] - 17s 196ms/step - loss: 2.5076 - val_loss: 3.3227\n",
            "Epoch 23/50\n",
            "85/85 [==============================] - 17s 196ms/step - loss: 2.4790 - val_loss: 3.3159\n",
            "Epoch 24/50\n",
            "85/85 [==============================] - 17s 197ms/step - loss: 2.3991 - val_loss: 3.3239\n",
            "Epoch 25/50\n",
            "85/85 [==============================] - 17s 197ms/step - loss: 2.3605 - val_loss: 3.3190\n",
            "Epoch 00025: early stopping\n"
          ]
        }
      ]
    },
    {
      "cell_type": "code",
      "metadata": {
        "id": "civic-blowing",
        "outputId": "6fd3fd80-c537-4a7e-b37e-1c58b850b42e"
      },
      "source": [
        "plt.plot(history.history['loss'], label='train')\n",
        "plt.plot(history.history['val_loss'], label='test')\n",
        "plt.legend()\n",
        "plt.show()"
      ],
      "id": "civic-blowing",
      "execution_count": null,
      "outputs": [
        {
          "data": {
            "image/png": "[encoded data removed]",
            "text/plain": [
              "<Figure size 432x288 with 1 Axes>"
            ]
          },
          "metadata": {
            "needs_background": "light"
          },
          "output_type": "display_data"
        }
      ]
    },
    {
      "cell_type": "code",
      "metadata": {
        "id": "plain-reward"
      },
      "source": [
        ""
      ],
      "id": "plain-reward",
      "execution_count": null,
      "outputs": []
    },
    {
      "cell_type": "code",
      "metadata": {
        "id": "short-custom"
      },
      "source": [
        "# 모델 구현\n",
        "src_index_to_word = src_tokenizer.index_word # 원문 단어 집합에서 정수 -> 단어를 얻음\n",
        "tar_word_to_index = tar_tokenizer.word_index # 요약 단어 집합에서 단어 -> 정수를 얻음\n",
        "tar_index_to_word = tar_tokenizer.index_word # 요약 단어 집합에서 정수 -> 단어를 얻음"
      ],
      "id": "short-custom",
      "execution_count": null,
      "outputs": []
    },
    {
      "cell_type": "code",
      "metadata": {
        "id": "medical-williams"
      },
      "source": [
        "# 인코더 설계\n",
        "encoder_model = Model(inputs=encoder_inputs, outputs=[encoder_outputs, state_h, state_c])\n",
        "\n",
        "# 이전 시점의 상태들을 저장하는 텐서\n",
        "decoder_state_input_h = Input(shape=(hidden_size,))\n",
        "decoder_state_input_c = Input(shape=(hidden_size,))\n",
        "\n",
        "dec_emb2 = dec_emb_layer(decoder_inputs)\n",
        "\n",
        "decoder_outputs2, state_h2, state_c2 = decoder_lstm(dec_emb2, initial_state=[decoder_state_input_h, decoder_state_input_c])"
      ],
      "id": "medical-williams",
      "execution_count": null,
      "outputs": []
    },
    {
      "cell_type": "code",
      "metadata": {
        "id": "interim-mayor"
      },
      "source": [
        "# 어텐션 함수\n",
        "decoder_hidden_state_input = Input(shape=(text_max_len, hidden_size))\n",
        "attn_out_inf, attn_states_inf = attn_layer([decoder_hidden_state_input, decoder_outputs2])\n",
        "decoder_inf_concat = Concatenate(axis=-1, name='concat')([decoder_outputs2, attn_out_inf])\n",
        "\n",
        "# 디코더의 출력층\n",
        "decoder_outputs2 = decoder_softmax_layer(decoder_inf_concat) \n",
        "\n",
        "# 최종 디코더 모델\n",
        "decoder_model = Model(\n",
        "    [decoder_inputs] + [decoder_hidden_state_input,decoder_state_input_h, decoder_state_input_c],\n",
        "    [decoder_outputs2] + [state_h2, state_c2])"
      ],
      "id": "interim-mayor",
      "execution_count": null,
      "outputs": []
    },
    {
      "cell_type": "code",
      "metadata": {
        "id": "armed-vietnam"
      },
      "source": [
        "def decode_sequence(input_seq):\n",
        "    # 입력으로부터 인코더의 상태를 얻음\n",
        "    e_out, e_h, e_c = encoder_model.predict(input_seq)\n",
        "\n",
        "     # <SOS>에 해당하는 토큰 생성\n",
        "    target_seq = np.zeros((1,1))\n",
        "    target_seq[0, 0] = tar_word_to_index['sostoken']\n",
        "\n",
        "    stop_condition = False\n",
        "    decoded_sentence = ''\n",
        "    while not stop_condition: # stop_condition이 True가 될 때까지 루프 반복\n",
        "\n",
        "        output_tokens, h, c = decoder_model.predict([target_seq] + [e_out, e_h, e_c])\n",
        "        sampled_token_index = np.argmax(output_tokens[0, -1, :])\n",
        "        sampled_token = tar_index_to_word[sampled_token_index]\n",
        "\n",
        "        if (sampled_token!='eostoken'):\n",
        "            decoded_sentence += ' '+sampled_token\n",
        "\n",
        "        if (sampled_token == 'eostoken'  or len(decoded_sentence.split()) >= (summary_max_len-1)):\n",
        "            stop_condition = True\n",
        "\n",
        "        # 길이가 1인 타겟 시퀀스를 업데이트\n",
        "        target_seq = np.zeros((1,1))\n",
        "        target_seq[0, 0] = sampled_token_index\n",
        "\n",
        "        # 상태를 업데이트 합니다.\n",
        "        e_h, e_c = h, c\n",
        "\n",
        "    return decoded_sentence"
      ],
      "id": "armed-vietnam",
      "execution_count": null,
      "outputs": []
    },
    {
      "cell_type": "markdown",
      "metadata": {
        "id": "indoor-marker"
      },
      "source": [
        "## Step 4. 실제 결과와 요약문 비교하기 (추상적 요약)"
      ],
      "id": "indoor-marker"
    },
    {
      "cell_type": "code",
      "metadata": {
        "id": "bright-upset"
      },
      "source": [
        "# 모델 테스트\n",
        "# 원문의 정수 시퀀스를 텍스트 시퀀스로 변환\n",
        "def seq2text(input_seq):\n",
        "    temp=''\n",
        "    for i in input_seq:\n",
        "        if (i!=0):\n",
        "            temp = temp + src_index_to_word[i]+' '\n",
        "    return temp\n",
        "\n",
        "# 요약문의 정수 시퀀스를 텍스트 시퀀스로 변환\n",
        "def seq2summary(input_seq):\n",
        "    temp=''\n",
        "    for i in input_seq:\n",
        "        if ((i!=0 and i!=tar_word_to_index['sostoken']) and i!=tar_word_to_index['eostoken']):\n",
        "            temp = temp + tar_index_to_word[i] + ' '\n",
        "    return temp"
      ],
      "id": "bright-upset",
      "execution_count": null,
      "outputs": []
    },
    {
      "cell_type": "code",
      "metadata": {
        "id": "collaborative-physics",
        "outputId": "13993593-e7e8-4af2-eb4c-f4a0d13d4c06"
      },
      "source": [
        "for i in range(50, 100):\n",
        "    print(\"원문 :\", seq2text(encoder_input_test[i]))\n",
        "    print(\"실제 요약 :\", seq2summary(decoder_input_test[i]))\n",
        "    print(\"예측 요약 :\", decode_sequence(encoder_input_test[i].reshape(1, text_max_len)))\n",
        "    print(\"\\n\")"
      ],
      "id": "collaborative-physics",
      "execution_count": null,
      "outputs": [
        {
          "name": "stdout",
          "output_type": "stream",
          "text": [
            "원문 : police sunday arrested bjp worker na son three others allegedly assaulting police constable outside bar bengaluru accused influence alcohol assaulted police constable fight picked alleged police assaulted son custody \n",
            "실제 요약 : bengaluru bjp son arrested for assaulting cop \n",
            "예측 요약 :  arrested for assaulting minor in maharashtra\n",
            "\n",
            "\n",
            "원문 : amid drought conditions due monsoon failure several women kerala district nearly wells since october women experience wells beginning since gained wells cost half average price women paid scheme \n",
            "실제 요약 : women in kerala amid \n",
            "예측 요약 :  cases in months in yrs\n",
            "\n",
            "\n",
            "원문 : scientists developed prototype called display moves five directions according user needs watch display automatically move forward backward along rise watch display show another person display move backward inside extreme dust move forward show notifications \n",
            "실제 요약 : scientists develop that moves in \n",
            "예측 요약 :  google to launch\n",
            "\n",
            "\n",
            "원문 : international art advisory firm bought least costing total million two days bought nine works four others including million portrait remains whether buying single client several \n",
            "실제 요약 : company buys for crore in days \n",
            "예측 요약 :  us village to crore\n",
            "\n",
            "\n",
            "원문 : defender th minute goal helped chelsea win premier league match city defeating ninth placed side saturday win chelsea increased gap top points meanwhile arsenal suffered fourth loss last five premier league matches losing west arsenal currently fifth league \n",
            "실제 요약 : chelsea league lose \n",
            "예측 요약 :  neymar scores for in\n",
            "\n",
            "\n",
            "원문 : deadline linking aadhaar permanent account number ends today june deadline fourth extension given government individuals linking pan aadhaar fail link pan aadhaar may allowed file income tax returns last day july \n",
            "실제 요약 : deadline to aadhaar with ends today \n",
            "예측 요약 :  aadhaar mandatory for aadhaar\n",
            "\n",
            "\n",
            "원문 : kerala floods mahatma gandhi urged people contribute series articles young india revealed people donated jewellery like gold silver collected cash gandhi also wrote state congress leaders urging assist government relief measures \n",
            "실제 요약 : mahatma gandhi for kerala floods \n",
            "예측 요약 :  assam govt calls for\n",
            "\n",
            "\n",
            "원문 : professor thursday found hanging residence bhubaneswar odisha started coaching institute iit medical entrance examinations also started private science college investing crore per reports allegedly committed suicide mentally harassed people \n",
            "실제 요약 : found at home in odisha \n",
            "예측 요약 :  woman worth crore in delhi\n",
            "\n",
            "\n",
            "원문 : scientists radiation rocks could break water molecules support hydrogen eating solar system bodies produces hydrogen oxygen create food sources scientists said applied model ocean like saturn moon jupiter moon \n",
            "실제 요약 : scientists model how could support life \n",
            "예측 요약 :  scientists discover new\n",
            "\n",
            "\n",
            "원문 : karnataka assembly winter session started strength around mlas even minimum number required proceedings start members stating painful see conduct speaker forced house minutes notably assembly sessions cost crore per day \n",
            "실제 요약 : taka assembly winter starts with mlas \n",
            "예측 요약 :  punjab assembly candidates for\n",
            "\n",
            "\n",
            "원문 : russia capital city moscow friday received fake bomb calls prompted evacuation around lakh people four moscow airports five railway stations shopping schools many places believed massive fake bomb threats since wave bomb began september \n",
            "실제 요약 : receives fake bomb calls lakh people \n",
            "예측 요약 :  us to launch in\n",
            "\n",
            "\n",
            "원문 : swiss tennis star roger federer completed weeks inside top men singles rankings year old singles titles including record grand slam singles titles far currently ranked third world federer also spent record weeks world number one spot \n",
            "실제 요약 : roger federer completes inside the top \n",
            "예측 요약 :  federer to become world cup\n",
            "\n",
            "\n",
            "원문 : israeli ministry tourism hoping promote anti terrorism defence tourism india help indian travel agents senior tourism ministry official said thursday said tourists want know shoot hide tackle similar interested promoting anything brings tourists \n",
            "실제 요약 : israel anti terrorism tourism in india \n",
            "예측 요약 :  maldives to ban on\n",
            "\n",
            "\n",
            "원문 : least people killed dozen others injured late friday landslide garbage dump sri lanka according reports metre high dump buried around houses reportedly collapsed flames residents area demanding dump removal saying caused health issues \n",
            "실제 요약 : sri lanka kills \n",
            "예측 요약 :  killed as explosion in\n",
            "\n",
            "\n",
            "원문 : many cricketers including indians featuring year indian premier league auction scheduled held january bengaluru original number players brought teams submitted list features players afghanistan \n",
            "실제 요약 : indians among players to be auctioned for ipl \n",
            "예측 요약 :  india highest in india\n",
            "\n",
            "\n",
            "원문 : former indian cricketer virender sehwag posted video twitter handle wishing yuvraj occasion tenth anniversary six sixes one sehwag said six sixes broad yuvraj became king venue match knock remain heart forever sehwag said \n",
            "실제 요약 : with yuvraj king of sehwag \n",
            "예측 요약 :  sehwag sehwag sehwag\n",
            "\n",
            "\n",
            "원문 : chinese doctor paid man son clothes cut emergency operation son suffered man originally demanded doctor later said people big deal probably important \n",
            "실제 요약 : doctor pays for during patient operation \n",
            "예측 요약 :  video shows victim\n",
            "\n",
            "\n",
            "원문 : following demise former pm atal bihari vajpayee shiv sena chief thackeray said heart ready accept atal ji simple man innocent politician claiming nda remained strong vajpayee took everybody along thackeray added hearts due power always remained far away \n",
            "실제 요약 : vajpayee was man an politician \n",
            "예측 요약 :  vajpayee for vajpayee\n",
            "\n",
            "\n",
            "원문 : india fourth valuable firm wipro friday reported quarter quarter rise net profit crore june quarter compared crore previous quarter revenue company operations grew crore shares wipro closed nearly lower ahead earnings \n",
            "실제 요약 : profit rises to crore in june quarter \n",
            "예측 요약 :  profit falls to crore in june quarter\n",
            "\n",
            "\n",
            "원문 : digital payments startup paytm introduced paytm business app businesses accept payments zero charges app also lets businesses view transactions without need wait confirmation email available regional languages currently launched android operating system \n",
            "실제 요약 : paytm launches business app for \n",
            "예측 요약 :  paytm acquires qualcomm for\n",
            "\n",
            "\n",
            "원문 : union tourism ministry sunday sanctioned nearly crore heritage circuit assam scheme mos tourism mahesh sharma announced decision following meeting assam chief minister constructed developed project \n",
            "실제 요약 : nearly crore for assam \n",
            "예측 요약 :  govt to cr for relief\n",
            "\n",
            "\n",
            "원문 : first song titled akshay kumar starrer gold released written composed mukherjee sung film mark bollywood debut television actress roy also star kunal kapoor directed gold release august \n",
            "실제 요약 : first song from akshay kumar starrer gold released \n",
            "예측 요약 :  song from released\n",
            "\n",
            "\n",
            "원문 : actor hrithik roshan talking career bollywood said would change thing added amazing journey far part amazing films worked really people hrithik said would get feels right time \n",
            "실제 요약 : have no hrithik on his bollywood career \n",
            "예측 요약 :  am not about alia kapoor\n",
            "\n",
            "\n",
            "원문 : karnataka government urged supreme court declare late tamil nadu cm jayalalithaa convict disproportionate assets case state argued apex court february ruling charges jayalalithaa due demise error court judgement convicted aiadmk sasikala natarajan \n",
            "실제 요약 : declare jayalalithaa as in assets case karnataka \n",
            "예측 요약 :  cbi verdict in taka minister\n",
            "\n",
            "\n",
            "원문 : public service doordarshan started transmission years ago september broadcast india first channel remained sole television provider till also broadcast famous shows like days book mirza vikram aur \n",
            "실제 요약 : india first was by \n",
            "예측 요약 :  world most expensive in india\n",
            "\n",
            "\n",
            "원문 : year old thai girl earlier named world teenager guinness records revealed married love life father said started face regularly suffers syndrome rare genetic condition causes excessive body hair growth \n",
            "실제 요약 : world teen gets married starts face \n",
            "예측 요약 :  wins for\n",
            "\n",
            "\n",
            "원문 : man united states lottery second prize using numbers mark roy said numbers mean something family birthday numbers largest lottery winner \n",
            "실제 요약 : lottery winner and wins \n",
            "예측 요약 :  player wins the theatres\n",
            "\n",
            "\n",
            "원문 : astronomers using chile based observatory created image red carbon star surrounding shell expelled material shifted colours show motion material relative earth blue shows motion towards earth whereas red around edge motion away star earth well \n",
            "실제 요약 : astronomers of an star \n",
            "예측 요약 :  astronomers find new planet\n",
            "\n",
            "\n",
            "원문 : co working space provider raised million pre series round led family office startup co founder malik said raised million including round funding founded counts paytm founder vijay shekhar sharma google india managing director rajan among others angel investors \n",
            "실제 요약 : startup co working space raises million \n",
            "예측 요약 :  startup raises million\n",
            "\n",
            "\n",
            "원문 : release date parineeti chopra sidharth malhotra starrer announced may announcing date sidharth wrote hai sidharth parineeti second film together film toh directed singh comedy \n",
            "실제 요약 : release date of parineeti sidharth out \n",
            "예측 요약 :  first look from sidharth starrer released\n",
            "\n",
            "\n",
            "원문 : woman husband arrested made videos cooking eating protected wild animals earn money youtube animals included endangered cat protected bird species king shark couple publicly apologised destroying wildlife arrested based reporting video \n",
            "실제 요약 : woman films eating arrested \n",
            "예측 요약 :  woman arrested for selling video\n",
            "\n",
            "\n",
            "원문 : man allegedly stole around worth nearly lakh electronics company advice bengaluru recently told good times would come electronic goods man expressed desire become rich quickly arrested along man three associates \n",
            "실제 요약 : bengaluru man worth on \n",
            "예측 요약 :  man arrested for selling in\n",
            "\n",
            "\n",
            "원문 : gujarat mla shared whatsapp chat two senior policemen wherein allegedly planning encounter chat reportedly includes two videos one showing policemen thrashing man dressed like politician shows cm yogi adityanath defending police videos followed message reading scores settled \n",
            "실제 요약 : claims cops planning his encounter shares \n",
            "예측 요약 :  kerala police kill people in violence\n",
            "\n",
            "\n",
            "원문 : cristiano ronaldo converted penalty win juventus rome sunday pull points clear serie ronaldo whose penalty saved last week scored eighth consecutive away match bring league tally goals ronaldo currently league second highest \n",
            "실제 요약 : ronaldo penalty to help beat \n",
            "예측 요약 :  ronaldo for padma\n",
            "\n",
            "\n",
            "원문 : union minister state railways said indian railways proposal increase fares asked fares special trains said special trains special charges introduced based demand pattern notably indian railways added million passengers year \n",
            "실제 요약 : no proposal to increase railway union minister \n",
            "예측 요약 :  railways to get new stations\n",
            "\n",
            "\n",
            "원문 : chain reaction volcanic shaped north america triggered strike billion years ago according study canada earth second largest known impact crater scientists said impact resulted coming deep inside earth earth \n",
            "실제 요약 : strike long study \n",
            "예측 요약 :  world largest telescope in years\n",
            "\n",
            "\n",
            "원문 : technology giant apple removed games philippine president rodrigo duterte war drugs comes organisations including human rights groups drug rehabilitation centres wrote letter urging apple ceo tim cook remove games nearly people killed duterte war drugs \n",
            "실제 요약 : apple removes games on philippine president drug war \n",
            "예측 요약 :  google to launch users to\n",
            "\n",
            "\n",
            "원문 : eight critically endangered black died new wildlife reserve kenya died result salt tried water new wildlife officials said around world black estimated living kenya \n",
            "실제 요약 : black die after in \n",
            "예측 요약 :  rare found in\n",
            "\n",
            "\n",
            "원문 : tenth black died kenya wildlife workers animals new national park start new population area animals death blamed negligence poor communication coordination among officers involved transfer meanwhile th attacked critical \n",
            "실제 요약 : to start new population die \n",
            "예측 요약 :  killed in in\n",
            "\n",
            "\n",
            "원문 : day state run oil marketing companies raised prices petrol diesel paise paise per litre respectively delhi diesel prices monday reached per litre delhi fresh record high petrol prices also rose per litre highest since september \n",
            "실제 요약 : petrol diesel after days \n",
            "예측 요약 :  petrol price income in months\n",
            "\n",
            "\n",
            "원문 : canadian mp randeep apologised inviting terrorist pm justin trudeau reception dinner scheduled thursday new delhi alone request attend important event better judgement added convicted attempted murder punjab state minister sidhu \n",
            "실제 요약 : canadian mp apologises for terrorist \n",
            "예측 요약 :  trump calls over harry\n",
            "\n",
            "\n",
            "원문 : nearly lakh central government jobs generated country last two years according budget data one lakh jobs added police departments estimated workforce central government lakh march year compared lakh march revealed \n",
            "실제 요약 : central government jobs in last yrs budget \n",
            "예측 요약 :  dept to introduce cases in\n",
            "\n",
            "\n",
            "원문 : selling rights use name us chinese manufacturer japanese corporation sharp claimed damaging brand manufactured sharp sued chinese firm get back us name rights stating gave consumers information picture size levels resolution \n",
            "실제 요약 : says its us are \n",
            "예측 요약 :  us stops of\n",
            "\n",
            "\n",
            "원문 : member syrian rescue group white helmets caught camera helping militants bodies syrian army soldiers group fired member said acting capacity member notably white helmets subject oscar winning film highlighting humanitarian efforts syria \n",
            "실제 요약 : white member syrian soldiers body \n",
            "예측 요약 :  us chemical find in syria\n",
            "\n",
            "\n",
            "원문 : image board class th showing mosque noise pollution source sparked social media image shows train car plane mosque symbols depicting loud sound next man shutting board officials available comments apologised image \n",
            "실제 요약 : showing mosque as \n",
            "예측 요약 :  woman for shooting\n",
            "\n",
            "\n",
            "원문 : men arrested least others killed suspicion authorities launched anti gay campaign russian republic reports said however president ramzan spokesperson denied reports saying gay people notably conservative society considers homosexuality \n",
            "실제 요약 : gay men killed arrested in \n",
            "예측 요약 :  killed in attack at clashes\n",
            "\n",
            "\n",
            "원문 : world largest cryptocurrency bitcoin price fell friday reaching time high earlier month cryptocurrency still year bitcoin currently market capitalisation billion accounts cryptocurrency market \n",
            "실제 요약 : bitcoin falls by from record high of \n",
            "예측 요약 :  bitcoin falls by in\n",
            "\n",
            "\n",
            "원문 : chinese street offers straight along inside customers claims learnt eyes technique serves eight customers week charges nearly per technique said along \n",
            "실제 요약 : chinese people \n",
            "예측 요약 :  world first museum in\n",
            "\n",
            "\n",
            "원문 : year old delhi police constable posted nagar station found dead monday near railway tracks area southwest delhi police said son also found sitting next body cause death yet police investigating whether committed suicide accident \n",
            "실제 요약 : delhi police constable found dead near railway \n",
            "예측 요약 :  held for smuggling in delhi\n",
            "\n",
            "\n",
            "원문 : according released republic tv death shashi tharoor wife dead body allegedly moved room number delhi leela hotel tharoor aide narayan claimed couple fought entire night death channel also alleged body \n",
            "실제 요약 : what do tv murder \n",
            "예측 요약 :  shares suicide on boyfriend\n",
            "\n",
            "\n"
          ]
        }
      ]
    },
    {
      "cell_type": "markdown",
      "metadata": {
        "id": "phantom-government"
      },
      "source": [
        "## Step 5. Summa을 이용해서 추출적 요약해보기"
      ],
      "id": "phantom-government"
    },
    {
      "cell_type": "code",
      "metadata": {
        "id": "great-terrorism",
        "outputId": "7b4163a1-8e62-4f23-e17e-ce37066c50a2"
      },
      "source": [
        "import requests\n",
        "from summa.summarizer import summarize\n",
        "\n",
        "text = requests.get('http://rare-technologies.com/the_matrix_synopsis.txt').text\n",
        "print(text[:1500])"
      ],
      "id": "great-terrorism",
      "execution_count": null,
      "outputs": [
        {
          "name": "stdout",
          "output_type": "stream",
          "text": [
            "The screen is filled with green, cascading code which gives way to the title, The Matrix.\r\n",
            "\r\n",
            "A phone rings and text appears on the screen: \"Call trans opt: received. 2-19-98 13:24:18 REC: Log>\" As a conversation takes place between Trinity (Carrie-Anne Moss) and Cypher (Joe Pantoliano), two free humans, a table of random green numbers are being scanned and individual numbers selected, creating a series of digits not unlike an ordinary phone number, as if a code is being deciphered or a call is being traced.\r\n",
            "\r\n",
            "Trinity discusses some unknown person. Cypher taunts Trinity, suggesting she enjoys watching him. Trinity counters that \"Morpheus (Laurence Fishburne) says he may be 'the One',\" just as the sound of a number being selected alerts Trinity that someone may be tracing their call. She ends the call.\r\n",
            "\r\n",
            "Armed policemen move down a darkened, decrepit hallway in the Heart O' the City Hotel, their flashlight beam bouncing just ahead of them. They come to room 303, kick down the door and find a woman dressed in black, facing away from them. It's Trinity. She brings her hands up from the laptop she's working on at their command.\r\n",
            "\r\n",
            "Outside the hotel a car drives up and three agents appear in neatly pressed black suits. They are Agent Smith (Hugo Weaving), Agent Brown (Paul Goddard), and Agent Jones (Robert Taylor). Agent Smith and the presiding police lieutenant argue. Agent Smith admonishes the policeman that they were given specific orders to contact the agents first, for their\n"
          ]
        }
      ]
    },
    {
      "cell_type": "code",
      "metadata": {
        "id": "lonely-conditioning",
        "outputId": "16afff24-01ad-405d-dc98-c561fbb7d275"
      },
      "source": [
        "print('Summary:')\n",
        "print(summarize(text, ratio=0.005))"
      ],
      "id": "lonely-conditioning",
      "execution_count": null,
      "outputs": [
        {
          "name": "stdout",
          "output_type": "stream",
          "text": [
            "Summary:\n",
            "Morpheus, Trinity, Neo, Apoc, Switch, Mouse and Cypher are jacked into the Matrix.\n",
            "Trinity brings the helicopter down to the floor that Morpheus is on and Neo opens fire on the three Agents.\n"
          ]
        }
      ]
    },
    {
      "cell_type": "code",
      "metadata": {
        "id": "limiting-bankruptcy",
        "outputId": "f8ea45f6-45bc-4a48-879c-dfc8ab669e20"
      },
      "source": [
        "print('Summary:')\n",
        "print(summarize(text, ratio=0.005, split=True))"
      ],
      "id": "limiting-bankruptcy",
      "execution_count": null,
      "outputs": [
        {
          "name": "stdout",
          "output_type": "stream",
          "text": [
            "Summary:\n",
            "['Morpheus, Trinity, Neo, Apoc, Switch, Mouse and Cypher are jacked into the Matrix.', 'Trinity brings the helicopter down to the floor that Morpheus is on and Neo opens fire on the three Agents.']\n"
          ]
        }
      ]
    },
    {
      "cell_type": "code",
      "metadata": {
        "id": "ignored-median",
        "outputId": "74469316-6ab6-47c2-a290-2d88f24a395d"
      },
      "source": [
        "print('Summary:')\n",
        "print(summarize(text, words=50))"
      ],
      "id": "ignored-median",
      "execution_count": null,
      "outputs": [
        {
          "name": "stdout",
          "output_type": "stream",
          "text": [
            "Summary:\n",
            "Trinity takes Neo to Morpheus.\n",
            "Morpheus, Trinity, Neo, Apoc, Switch, Mouse and Cypher are jacked into the Matrix.\n",
            "Trinity brings the helicopter down to the floor that Morpheus is on and Neo opens fire on the three Agents.\n"
          ]
        }
      ]
    }
  ]
}