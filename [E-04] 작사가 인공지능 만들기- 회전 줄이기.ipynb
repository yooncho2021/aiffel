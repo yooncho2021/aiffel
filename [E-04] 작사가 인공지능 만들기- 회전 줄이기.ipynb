{
 "cells": [
  {
   "cell_type": "markdown",
   "id": "dependent-garbage",
   "metadata": {},
   "source": [
    "# Step 1. 데이터 다운로드"
   ]
  },
  {
   "cell_type": "markdown",
   "id": "medium-composer",
   "metadata": {},
   "source": [
    "# Step 2. 데이터 읽어오기\n"
   ]
  },
  {
   "cell_type": "code",
   "execution_count": 1,
   "id": "stock-bridge",
   "metadata": {
    "scrolled": true
   },
   "outputs": [
    {
     "name": "stdout",
     "output_type": "stream",
     "text": [
      "데이터 크기: 187088\n",
      "Examples:\n",
      " ['[Hook]', \"I've been down so long, it look like up to me\"]\n"
     ]
    }
   ],
   "source": [
    "# 라이브러리 불러오기\n",
    "import glob\n",
    "import os, re  #re가 빠지면 안됨!\n",
    "import numpy as np\n",
    "import tensorflow as tf\n",
    "\n",
    "# 파일 읽기\n",
    "txt_file_path = os.getenv('HOME')+'/aiffel/lyricist/data/lyrics/*'\n",
    "txt_list = glob.glob(txt_file_path)\n",
    "raw_corpus = []\n",
    "\n",
    "for txt_file in txt_list:\n",
    "    with open(txt_file, \"r\") as f:\n",
    "        raw = f.read().splitlines()\n",
    "        raw_corpus.extend(raw)\n",
    "\n",
    "#파일 안에 있는 단어 개수 확인 및 2줄 불러와서 확인하기\n",
    "print(\"데이터 크기:\", len(raw_corpus))\n",
    "print(\"Examples:\\n\", raw_corpus[:2])"
   ]
  },
  {
   "cell_type": "markdown",
   "id": "terminal-attachment",
   "metadata": {},
   "source": [
    "# Step 3. 데이터 정제"
   ]
  },
  {
   "cell_type": "code",
   "execution_count": 5,
   "id": "retired-smooth",
   "metadata": {},
   "outputs": [
    {
     "name": "stdout",
     "output_type": "stream",
     "text": [
      "I've been down so long, it look like up to me\n",
      "They look up to me\n"
     ]
    }
   ],
   "source": [
    "for idx, sentence in enumerate(raw_corpus):\n",
    "    if len(sentence)==0: continue # 문장 길이가 0 (공백)이면 건너뛰기\n",
    "    if sentence[-1]==\"]\": continue #[hook]과 같은 형식을 나타내는 부분은 건너뛰기\n",
    "\n",
    "    if idx > 2: break # 문장 확인\n",
    "    print(sentence)"
   ]
  },
  {
   "cell_type": "code",
   "execution_count": 6,
   "id": "moved-consultancy",
   "metadata": {},
   "outputs": [],
   "source": [
    "# preprocess_sentence() 토큰화\n",
    "def preprocess_sentence(sentence):\n",
    "    sentence = sentence.lower().strip() # 모두 소문자화, 공백 지우기\n",
    "    sentence = re.sub(r\"([?.!,¿])\", r\" \\1 \", sentence) #특수기호 양쪽에 공백 추가\n",
    "    sentence = re.sub(r'[\" \"]+', \" \", sentence) # 공백 한칸으로 수정 및 통일\n",
    "    sentence = re.sub(r\"[^a-zA-Z?.!,¿]+\", \" \", sentence) # 지정 기호 외에 공백으로 수정\n",
    "    sentence = sentence.strip() # 양쪽 공백 지우기\n",
    "    sentence = '<start> ' + sentence + ' <end>' # <start>, <end> 넣기\n",
    "    return sentence"
   ]
  },
  {
   "cell_type": "code",
   "execution_count": 7,
   "id": "binding-entity",
   "metadata": {
    "scrolled": true
   },
   "outputs": [
    {
     "data": {
      "text/plain": [
       "['<start> i ve been down so long , it look like up to me <end>',\n",
       " '<start> they look up to me <end>',\n",
       " '<start> i got fake people showin fake love to me <end>',\n",
       " '<start> straight up to my face , straight up to my face <end>',\n",
       " '<start> i ve been down so long , it look like up to me <end>',\n",
       " '<start> they look up to me <end>',\n",
       " '<start> i got fake people showin fake love to me <end>',\n",
       " '<start> somethin ain t right when we talkin <end>',\n",
       " '<start> somethin ain t right when we talkin <end>',\n",
       " '<start> look like you hidin your problems <end>']"
      ]
     },
     "execution_count": 7,
     "metadata": {},
     "output_type": "execute_result"
    }
   ],
   "source": [
    "# 정제된 문장들 모으기\n",
    "corpus = []\n",
    "\n",
    "for sentence in raw_corpus:\n",
    "    if len(sentence) == 0: continue\n",
    "    if sentence[-1] == \"]\": continue #[hook] 빼기\n",
    "    preprocessed_sentence = preprocess_sentence(sentence)\n",
    "    corpus.append(preprocessed_sentence)\n",
    "\n",
    "# 정제된 문장 10개 확인\n",
    "corpus[:10]"
   ]
  },
  {
   "cell_type": "markdown",
   "id": "biblical-visibility",
   "metadata": {},
   "source": [
    "# Step 4. 평가 데이터셋 분리"
   ]
  },
  {
   "cell_type": "code",
   "execution_count": 8,
   "id": "australian-ground",
   "metadata": {},
   "outputs": [
    {
     "name": "stdout",
     "output_type": "stream",
     "text": [
      "[[   2    5   91 ...    0    0    0]\n",
      " [   2   45  134 ...    0    0    0]\n",
      " [   2    5   41 ...    0    0    0]\n",
      " ...\n",
      " [   2  213    3 ...    0    0    0]\n",
      " [   2  398    9 ...    0    0    0]\n",
      " [   2    9 1285 ...    0    0    0]] <keras_preprocessing.text.Tokenizer object at 0x7f52fc589a10>\n"
     ]
    }
   ],
   "source": [
    "# 토큰화: 텐서 플로우 tokenizer, pad_sequences 사용\n",
    "# 12000개의 단어 사용\n",
    "def tokenize(corpus):\n",
    "    tokenizer = tf.keras.preprocessing.text.Tokenizer(\n",
    "        num_words=12000, \n",
    "        filters=' ',\n",
    "        oov_token=\"<unk>\" # 12000개에 속하지 않으면 unk로\n",
    "    )\n",
    "    \n",
    "    tokenizer.fit_on_texts(corpus)\n",
    "    tensor = tokenizer.texts_to_sequences(corpus) \n",
    "    total_data_text = list(tensor)\n",
    "    num_tokens = [len(tokens) for tokens in total_data_text]\n",
    "    max_tokens = np.mean(num_tokens) + 2 * np.std(num_tokens)\n",
    "    maxlen = int(max_tokens)\n",
    "    \n",
    "    # 입력 데이터의 시퀀스 길이를 맞춰준다.\n",
    "    tensor = tf.keras.preprocessing.sequence.pad_sequences(tensor, \n",
    "                                                           padding='post',\n",
    "                                                          maxlen=maxlen)  \n",
    "   # tensor = tf.keras.preprocessing.sequence.pad_sequences(tensor, padding='post')  \n",
    "    \n",
    "    print(tensor,tokenizer)\n",
    "    return tensor, tokenizer\n",
    "\n",
    "tensor, tokenizer = tokenize(corpus)"
   ]
  },
  {
   "cell_type": "code",
   "execution_count": 9,
   "id": "spare-intelligence",
   "metadata": {
    "scrolled": true
   },
   "outputs": [
    {
     "name": "stdout",
     "output_type": "stream",
     "text": [
      "Source Train:  (139790, 19)\n",
      "Target Train:  (139790, 19)\n"
     ]
    }
   ],
   "source": [
    "# tensor에서 마지막 토큰을 잘라 문장을 생성\n",
    "src_input = tensor[:, :-1]\n",
    "tgt_input=tensor[:, 1:]\n",
    "\n",
    "# 훈련 셋과 검증 셋을 나누기\n",
    "from sklearn.model_selection import train_test_split\n",
    "enc_train, enc_val, dec_train, dec_val = train_test_split(src_input, \n",
    "                                                          tgt_input,\n",
    "                                                          test_size=0.2, # 20%의 테스트 데이터\n",
    "                                                          shuffle=True, \n",
    "                                                          random_state=68)\n",
    "print('Source Train: ', enc_train.shape)\n",
    "print('Target Train: ', dec_train.shape)"
   ]
  },
  {
   "cell_type": "markdown",
   "id": "expanded-vegetation",
   "metadata": {},
   "source": [
    "# Step 5. 인공지능 만들기"
   ]
  },
  {
   "cell_type": "code",
   "execution_count": 10,
   "id": "postal-finance",
   "metadata": {},
   "outputs": [],
   "source": [
    "# LYRICS GENERATOR 클래스를 통해서 모델 만들기\n",
    "# 1개의 embedding, 2개의 LSTM layers, 1개의 dense layer\n",
    "class LyricsGenerator(tf.keras.Model):\n",
    "    def __init__(self, vocab_size, embedding_size, hidden_size):\n",
    "        super().__init__()\n",
    "        \n",
    "        self.embedding = tf.keras.layers.Embedding(vocab_size, embedding_size)\n",
    "        self.rnn_1 = tf.keras.layers.LSTM(hidden_size, return_sequences=True)\n",
    "        self.rnn_2 = tf.keras.layers.LSTM(hidden_size, return_sequences=True)\n",
    "        self.linear = tf.keras.layers.Dense(vocab_size)\n",
    "        \n",
    "    def call(self, x):\n",
    "        out = self.embedding(x)\n",
    "        out = self.rnn_1(out)\n",
    "        out = self.rnn_2(out)\n",
    "        out = self.linear(out)\n",
    "        return out\n",
    "    \n",
    "embedding_size = 512  # embedding 사이즈를 높여서 모델의 성능 높이기\n",
    "hidden_size = 2048\n",
    "model = LyricsGenerator(tokenizer.num_words + 1, embedding_size , hidden_size)"
   ]
  },
  {
   "cell_type": "code",
   "execution_count": 11,
   "id": "written-seeker",
   "metadata": {},
   "outputs": [],
   "source": [
    "# 모델을 10번으로 나눠서 학습할 수 있도록 에폭시를 10으로 설정\n",
    "model = LyricsGenerator(tokenizer.num_words + 1, embedding_size , hidden_size)\n",
    "history = []\n",
    "epochs = 10\n",
    "\n",
    "optimizer = tf.keras.optimizers.Adam()\n",
    "\n",
    "loss = tf.keras.losses.SparseCategoricalCrossentropy(\n",
    "    from_logits=True,\n",
    "    reduction='none'\n",
    ")\n",
    "\n",
    "model.compile(loss=loss, optimizer=optimizer)\n",
    "#model.fit(dataset, epochs=10)"
   ]
  },
  {
   "cell_type": "code",
   "execution_count": 12,
   "id": "sublime-hawaii",
   "metadata": {},
   "outputs": [
    {
     "data": {
      "text/plain": [
       "<tf.Tensor: shape=(256, 19, 12001), dtype=float32, numpy=\n",
       "array([[[-2.22520714e-04, -1.27855128e-05,  3.77963552e-05, ...,\n",
       "         -2.04095777e-04, -2.05615492e-04,  2.55016406e-04],\n",
       "        [-2.53860257e-04,  9.56308213e-05,  3.09780939e-04, ...,\n",
       "         -4.09677770e-04, -7.39675306e-04,  3.79933597e-04],\n",
       "        [-1.06488944e-04, -1.80833493e-04,  6.42464147e-04, ...,\n",
       "         -3.66543682e-04, -8.38728971e-04,  6.82269165e-04],\n",
       "        ...,\n",
       "        [ 3.62255843e-04,  2.20229127e-03,  3.54958721e-03, ...,\n",
       "          1.19161326e-03, -1.65631704e-03,  2.27096770e-03],\n",
       "        [ 3.05834226e-04,  2.33873492e-03,  3.77630582e-03, ...,\n",
       "          1.14085758e-03, -1.63524540e-03,  2.35619955e-03],\n",
       "        [ 2.46118841e-04,  2.45691044e-03,  3.97811877e-03, ...,\n",
       "          1.08019740e-03, -1.60208566e-03,  2.42993492e-03]],\n",
       "\n",
       "       [[-2.22520714e-04, -1.27855128e-05,  3.77963552e-05, ...,\n",
       "         -2.04095777e-04, -2.05615492e-04,  2.55016406e-04],\n",
       "        [-1.96201974e-04,  3.56061995e-04,  1.63792909e-04, ...,\n",
       "         -1.84233912e-04,  6.24000822e-05,  2.69205106e-04],\n",
       "        [-3.91270529e-04,  4.18463809e-04,  2.13977633e-04, ...,\n",
       "         -3.60235630e-04,  4.65341782e-06, -1.90895473e-04],\n",
       "        ...,\n",
       "        [ 9.89541179e-04,  2.28006579e-03,  3.10205086e-03, ...,\n",
       "          1.29812630e-03, -1.25379825e-03,  2.20876886e-03],\n",
       "        [ 8.67728435e-04,  2.42817355e-03,  3.36185843e-03, ...,\n",
       "          1.25166913e-03, -1.28605822e-03,  2.31129304e-03],\n",
       "        [ 7.48929568e-04,  2.55461549e-03,  3.59684997e-03, ...,\n",
       "          1.18942268e-03, -1.30036147e-03,  2.40175240e-03]],\n",
       "\n",
       "       [[-2.22520714e-04, -1.27855128e-05,  3.77963552e-05, ...,\n",
       "         -2.04095777e-04, -2.05615492e-04,  2.55016406e-04],\n",
       "        [-7.31247128e-05, -3.59335332e-04,  2.51362391e-04, ...,\n",
       "         -1.40428776e-04, -1.61464835e-04,  7.04967533e-04],\n",
       "        [-1.29893873e-04, -5.61818073e-04,  3.39945196e-04, ...,\n",
       "          2.29243069e-05, -1.93155312e-04,  1.12039747e-03],\n",
       "        ...,\n",
       "        [ 1.25731900e-03,  2.58999877e-04,  1.04057556e-03, ...,\n",
       "         -8.77878687e-04,  2.83476373e-04, -2.41108228e-05],\n",
       "        [ 1.41697261e-03,  1.74027198e-04,  9.33343545e-04, ...,\n",
       "         -6.10359304e-04,  2.13898209e-04,  2.96094746e-04],\n",
       "        [ 1.52738218e-03,  2.19319758e-04,  9.38236306e-04, ...,\n",
       "         -3.26685607e-04, -5.60079854e-07,  6.33734337e-04]],\n",
       "\n",
       "       ...,\n",
       "\n",
       "       [[-2.22520714e-04, -1.27855128e-05,  3.77963552e-05, ...,\n",
       "         -2.04095777e-04, -2.05615492e-04,  2.55016406e-04],\n",
       "        [-3.76195530e-04,  1.66578451e-04, -1.26017228e-04, ...,\n",
       "         -2.92527373e-04, -1.80962772e-04,  6.20780571e-04],\n",
       "        [-6.74032723e-04,  2.30978025e-04, -3.46551067e-04, ...,\n",
       "         -4.95857850e-04, -2.60377594e-04,  6.93728449e-04],\n",
       "        ...,\n",
       "        [-8.19103676e-04,  1.94288150e-04, -6.17197948e-04, ...,\n",
       "          1.63841783e-03,  4.94459877e-04,  6.04507513e-04],\n",
       "        [-5.33516111e-04,  5.26337069e-04, -2.52888451e-04, ...,\n",
       "          1.66480511e-03,  2.37520275e-04,  8.52637226e-04],\n",
       "        [-2.79087777e-04,  8.65138893e-04,  1.72371685e-04, ...,\n",
       "          1.67010841e-03, -2.17507895e-05,  1.08425249e-03]],\n",
       "\n",
       "       [[-2.22520714e-04, -1.27855128e-05,  3.77963552e-05, ...,\n",
       "         -2.04095777e-04, -2.05615492e-04,  2.55016406e-04],\n",
       "        [-3.17456783e-04, -2.78296266e-05, -1.07165572e-04, ...,\n",
       "         -5.80591732e-05, -1.53633213e-04,  4.29692038e-04],\n",
       "        [-2.38623019e-04, -3.69486916e-05, -1.96816312e-04, ...,\n",
       "          1.47404338e-04, -3.74545016e-05,  6.48831774e-04],\n",
       "        ...,\n",
       "        [ 4.70111147e-04,  2.38134526e-03,  2.80458364e-03, ...,\n",
       "          1.31276308e-03, -7.99805392e-04,  2.13725492e-03],\n",
       "        [ 4.68787126e-04,  2.49232771e-03,  3.12803756e-03, ...,\n",
       "          1.26537436e-03, -9.42425337e-04,  2.21119379e-03],\n",
       "        [ 4.45793470e-04,  2.58658500e-03,  3.41667910e-03, ...,\n",
       "          1.20615645e-03, -1.04665780e-03,  2.28176033e-03]],\n",
       "\n",
       "       [[-2.22520714e-04, -1.27855128e-05,  3.77963552e-05, ...,\n",
       "         -2.04095777e-04, -2.05615492e-04,  2.55016406e-04],\n",
       "        [-5.17600507e-04,  1.67308957e-04, -3.66165623e-05, ...,\n",
       "         -2.26385077e-06, -1.41380850e-04,  7.33259541e-04],\n",
       "        [-6.03517110e-04,  2.42973838e-04, -1.10708070e-05, ...,\n",
       "          1.80869902e-04,  1.96999190e-05,  1.15026231e-03],\n",
       "        ...,\n",
       "        [ 1.30559853e-03,  1.44299679e-03,  3.34622478e-03, ...,\n",
       "          1.23510312e-03, -1.08588638e-03,  1.82129850e-03],\n",
       "        [ 1.18683721e-03,  1.66087388e-03,  3.56569048e-03, ...,\n",
       "          1.19534065e-03, -1.17613026e-03,  1.95514015e-03],\n",
       "        [ 1.06262113e-03,  1.85727095e-03,  3.76447104e-03, ...,\n",
       "          1.14495226e-03, -1.23566051e-03,  2.07899674e-03]]],\n",
       "      dtype=float32)>"
      ]
     },
     "execution_count": 12,
     "metadata": {},
     "output_type": "execute_result"
    }
   ],
   "source": [
    "# 데이터셋 객체 생성 및 전처리\n",
    "BUFFER_SIZE = len(src_input)\n",
    "BATCH_SIZE = 256\n",
    "steps_per_epoch = len(src_input) // BATCH_SIZE\n",
    "\n",
    "VOCAB_SIZE = tokenizer.num_words + 1 # \"+1\" = 0:<pad>를 포함   \n",
    "\n",
    "dataset = tf.data.Dataset.from_tensor_slices((src_input, tgt_input)) #메소드\n",
    "dataset = dataset.shuffle(BUFFER_SIZE)\n",
    "dataset = dataset.batch(BATCH_SIZE, drop_remainder=True)\n",
    "for src_sample, tgt_sample in dataset.take(1): break\n",
    "\n",
    "# 한 배치만 불러온 데이터를 모델에 넣가\n",
    "# model(src_sample)"
   ]
  },
  {
   "cell_type": "code",
   "execution_count": 13,
   "id": "reported-representation",
   "metadata": {
    "scrolled": true
   },
   "outputs": [
    {
     "name": "stdout",
     "output_type": "stream",
     "text": [
      "Model: \"lyrics_generator_1\"\n",
      "_________________________________________________________________\n",
      "Layer (type)                 Output Shape              Param #   \n",
      "=================================================================\n",
      "embedding_1 (Embedding)      multiple                  6144512   \n",
      "_________________________________________________________________\n",
      "lstm_2 (LSTM)                multiple                  20979712  \n",
      "_________________________________________________________________\n",
      "lstm_3 (LSTM)                multiple                  33562624  \n",
      "_________________________________________________________________\n",
      "dense_1 (Dense)              multiple                  24590049  \n",
      "=================================================================\n",
      "Total params: 85,276,897\n",
      "Trainable params: 85,276,897\n",
      "Non-trainable params: 0\n",
      "_________________________________________________________________\n"
     ]
    }
   ],
   "source": [
    "model.summary()"
   ]
  },
  {
   "cell_type": "code",
   "execution_count": 14,
   "id": "threaded-trial",
   "metadata": {},
   "outputs": [
    {
     "name": "stdout",
     "output_type": "stream",
     "text": [
      "Epoch 1/10\n",
      "547/547 [==============================] - 651s 1s/step - loss: 3.2350 - val_loss: 2.4402\n",
      "Epoch 2/10\n",
      "547/547 [==============================] - 649s 1s/step - loss: 2.3565 - val_loss: 2.2589\n",
      "Epoch 3/10\n",
      "547/547 [==============================] - 648s 1s/step - loss: 2.1387 - val_loss: 2.1239\n",
      "Epoch 4/10\n",
      "547/547 [==============================] - 649s 1s/step - loss: 1.9365 - val_loss: 2.0257\n",
      "Epoch 5/10\n",
      "547/547 [==============================] - 649s 1s/step - loss: 1.7490 - val_loss: 1.9447\n",
      "Epoch 6/10\n",
      "547/547 [==============================] - 649s 1s/step - loss: 1.5673 - val_loss: 1.8860\n",
      "Epoch 7/10\n",
      "547/547 [==============================] - 648s 1s/step - loss: 1.3962 - val_loss: 1.8395\n",
      "Epoch 8/10\n",
      "547/547 [==============================] - 649s 1s/step - loss: 1.2350 - val_loss: 1.8062\n",
      "Epoch 9/10\n",
      "547/547 [==============================] - 647s 1s/step - loss: 1.0915 - val_loss: 1.7868\n",
      "Epoch 10/10\n",
      "547/547 [==============================] - 647s 1s/step - loss: 0.9681 - val_loss: 1.7823\n"
     ]
    }
   ],
   "source": [
    "# history = model.fit(enc_train, \n",
    "#          dec_train, \n",
    "#          epochs=epochs,\n",
    "#          batch_size=256,\n",
    "#          validation_data=(enc_val, dec_val),\n",
    "#          verbose=1)"
   ]
  },
  {
   "cell_type": "code",
   "execution_count": 15,
   "id": "tamil-valuable",
   "metadata": {},
   "outputs": [],
   "source": [
    "# 모델을 평가하기 위해 generate_text함수를 통해 작문 \n",
    "def generate_text(model, tokenizer, init_sentence=\"<start>\", max_len=20):\n",
    "    test_input = tokenizer.texts_to_sequences([init_sentence]) # 텐서로 변환\n",
    "    test_tensor = tf.convert_to_tensor(test_input, dtype=tf.int64)\n",
    "    end_token = tokenizer.word_index[\"<end>\"]\n",
    "\n",
    "    while True:\n",
    "        # 입력받은 문장 텐서에 입력\n",
    "        predict = model(test_tensor) \n",
    "        # 예측된 값중 가장 높은 것으로 인덱스 출력\n",
    "        predict_word = tf.argmax(tf.nn.softmax(predict, axis=-1), axis=-1)[:, -1] \n",
    "        # 출력된 인덱스를 문장뒤에 붙이기\n",
    "        test_tensor = tf.concat([test_tensor, tf.expand_dims(predict_word, axis=0)], axis=-1)\n",
    "        # end 또는 max 길이에 넘는다면 문장 생성 종료\n",
    "        if predict_word.numpy()[0] == end_token: break\n",
    "        if test_tensor.shape[1] >= max_len: break\n",
    "\n",
    "    generated = \"\"\n",
    "    for word_index in test_tensor[0].numpy(): #토크나이저를 이용하여 인덱스를 단어로 호환\n",
    "        generated += tokenizer.index_word[word_index] + \" \"\n",
    "\n",
    "    return generated"
   ]
  },
  {
   "cell_type": "code",
   "execution_count": 17,
   "id": "marine-vermont",
   "metadata": {},
   "outputs": [
    {
     "data": {
      "text/plain": [
       "'<start> i love you liberian girl , <end> '"
      ]
     },
     "execution_count": 17,
     "metadata": {},
     "output_type": "execute_result"
    }
   ],
   "source": [
    "# 시범 문장 (입력문장): i love\n",
    "generate_text(model, tokenizer, init_sentence=\"<start> i love\", max_len=100)"
   ]
  },
  {
   "cell_type": "code",
   "execution_count": null,
   "id": "plastic-professor",
   "metadata": {},
   "outputs": [],
   "source": [
    "print(dataset)"
   ]
  },
  {
   "cell_type": "code",
   "execution_count": null,
   "id": "planned-exploration",
   "metadata": {},
   "outputs": [],
   "source": []
  }
 ],
 "metadata": {
  "kernelspec": {
   "display_name": "Python 3",
   "language": "python",
   "name": "python3"
  },
  "language_info": {
   "codemirror_mode": {
    "name": "ipython",
    "version": 3
   },
   "file_extension": ".py",
   "mimetype": "text/x-python",
   "name": "python",
   "nbconvert_exporter": "python",
   "pygments_lexer": "ipython3",
   "version": "3.7.9"
  }
 },
 "nbformat": 4,
 "nbformat_minor": 5
}
